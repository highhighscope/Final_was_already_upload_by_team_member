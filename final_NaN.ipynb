{
 "cells": [
  {
   "cell_type": "markdown",
   "metadata": {},
   "source": [
    "# 問題導向之資料科學與機器學習應用 - Final Project\n",
    "## 組名：NaN\n",
    "### 組員：傅立威、施宇庭、林侑城\n",
    "\n",
    "# Kaggle - Titanic\n",
    "check out more information about the data: https://www.kaggle.com/c/titanic\n",
    "\n",
    "\n",
    "* **1 Importing Libraries and Packages**\n",
    "* **2 XXX**\n",
    "    * 2.1 \n",
    "    * 2.2 \n",
    "    * 2.3 \n",
    "* **3 XXX**\n",
    "    * 3.1 \n",
    "    * 3.2 \n",
    "    * 3.3 \n",
    "* **4 XXX**\n",
    "    * 4.1 \n",
    "    * 4.2 \n",
    "    * 4.3 \n",
    "    * 4.4 \n",
    "* **5 XXX**\n",
    "    * 5.1 \n",
    "    * 5.2 "
   ]
  },
  {
   "cell_type": "markdown",
   "metadata": {},
   "source": [
    "## 1. Importing Libraries and Packages"
   ]
  },
  {
   "cell_type": "code",
   "execution_count": 1,
   "metadata": {},
   "outputs": [],
   "source": [
    "# data analysis and wrangling\n",
    "import pandas as pd\n",
    "import numpy as np\n",
    "import random as rnd\n",
    "\n",
    "# visualization\n",
    "import seaborn as sns\n",
    "import matplotlib.pyplot as plt\n",
    "%matplotlib inline\n",
    "\n",
    "# machine learning\n",
    "from sklearn.linear_model import LogisticRegression\n",
    "from sklearn.svm import SVC\n",
    "from sklearn.neighbors import KNeighborsClassifier\n",
    "from sklearn.naive_bayes import GaussianNB\n",
    "from sklearn.tree import DecisionTreeClassifier"
   ]
  },
  {
   "cell_type": "markdown",
   "metadata": {},
   "source": [
    "## 2. Loading and Viewing Data Set"
   ]
  },
  {
   "cell_type": "code",
   "execution_count": 2,
   "metadata": {},
   "outputs": [
    {
     "name": "stdout",
     "output_type": "stream",
     "text": [
      "   PassengerId  Survived  Pclass  \\\n",
      "0            1         0       3   \n",
      "1            2         1       1   \n",
      "2            3         1       3   \n",
      "3            4         1       1   \n",
      "4            5         0       3   \n",
      "\n",
      "                                                Name     Sex   Age  SibSp  \\\n",
      "0                            Braund, Mr. Owen Harris    male  22.0      1   \n",
      "1  Cumings, Mrs. John Bradley (Florence Briggs Th...  female  38.0      1   \n",
      "2                             Heikkinen, Miss. Laina  female  26.0      0   \n",
      "3       Futrelle, Mrs. Jacques Heath (Lily May Peel)  female  35.0      1   \n",
      "4                           Allen, Mr. William Henry    male  35.0      0   \n",
      "\n",
      "   Parch            Ticket     Fare Cabin Embarked  \n",
      "0      0         A/5 21171   7.2500   NaN        S  \n",
      "1      0          PC 17599  71.2833   C85        C  \n",
      "2      0  STON/O2. 3101282   7.9250   NaN        S  \n",
      "3      0            113803  53.1000  C123        S  \n",
      "4      0            373450   8.0500   NaN        S  \n",
      "(891, 12)\n",
      "\n",
      "\n",
      "   PassengerId  Pclass                                          Name     Sex  \\\n",
      "0          892       3                              Kelly, Mr. James    male   \n",
      "1          893       3              Wilkes, Mrs. James (Ellen Needs)  female   \n",
      "2          894       2                     Myles, Mr. Thomas Francis    male   \n",
      "3          895       3                              Wirz, Mr. Albert    male   \n",
      "4          896       3  Hirvonen, Mrs. Alexander (Helga E Lindqvist)  female   \n",
      "\n",
      "    Age  SibSp  Parch   Ticket     Fare Cabin Embarked  \n",
      "0  34.5      0      0   330911   7.8292   NaN        Q  \n",
      "1  47.0      1      0   363272   7.0000   NaN        S  \n",
      "2  62.0      0      0   240276   9.6875   NaN        Q  \n",
      "3  27.0      0      0   315154   8.6625   NaN        S  \n",
      "4  22.0      1      1  3101298  12.2875   NaN        S  \n",
      "(418, 11)\n"
     ]
    }
   ],
   "source": [
    "# read data\n",
    "train_df = pd.read_csv('train.csv')\n",
    "test_df = pd.read_csv('test.csv')\n",
    "\n",
    "print(train_df.head())\n",
    "print(train_df.shape)\n",
    "print('\\n')\n",
    "print(test_df.head())\n",
    "print(test_df.shape)"
   ]
  },
  {
   "cell_type": "code",
   "execution_count": 3,
   "metadata": {},
   "outputs": [
    {
     "data": {
      "text/html": [
       "<div>\n",
       "<style scoped>\n",
       "    .dataframe tbody tr th:only-of-type {\n",
       "        vertical-align: middle;\n",
       "    }\n",
       "\n",
       "    .dataframe tbody tr th {\n",
       "        vertical-align: top;\n",
       "    }\n",
       "\n",
       "    .dataframe thead th {\n",
       "        text-align: right;\n",
       "    }\n",
       "</style>\n",
       "<table border=\"1\" class=\"dataframe\">\n",
       "  <thead>\n",
       "    <tr style=\"text-align: right;\">\n",
       "      <th></th>\n",
       "      <th>PassengerId</th>\n",
       "      <th>Survived</th>\n",
       "      <th>Pclass</th>\n",
       "      <th>Age</th>\n",
       "      <th>SibSp</th>\n",
       "      <th>Parch</th>\n",
       "      <th>Fare</th>\n",
       "    </tr>\n",
       "  </thead>\n",
       "  <tbody>\n",
       "    <tr>\n",
       "      <th>count</th>\n",
       "      <td>891.000000</td>\n",
       "      <td>891.000000</td>\n",
       "      <td>891.000000</td>\n",
       "      <td>714.000000</td>\n",
       "      <td>891.000000</td>\n",
       "      <td>891.000000</td>\n",
       "      <td>891.000000</td>\n",
       "    </tr>\n",
       "    <tr>\n",
       "      <th>mean</th>\n",
       "      <td>446.000000</td>\n",
       "      <td>0.383838</td>\n",
       "      <td>2.308642</td>\n",
       "      <td>29.699118</td>\n",
       "      <td>0.523008</td>\n",
       "      <td>0.381594</td>\n",
       "      <td>32.204208</td>\n",
       "    </tr>\n",
       "    <tr>\n",
       "      <th>std</th>\n",
       "      <td>257.353842</td>\n",
       "      <td>0.486592</td>\n",
       "      <td>0.836071</td>\n",
       "      <td>14.526497</td>\n",
       "      <td>1.102743</td>\n",
       "      <td>0.806057</td>\n",
       "      <td>49.693429</td>\n",
       "    </tr>\n",
       "    <tr>\n",
       "      <th>min</th>\n",
       "      <td>1.000000</td>\n",
       "      <td>0.000000</td>\n",
       "      <td>1.000000</td>\n",
       "      <td>0.420000</td>\n",
       "      <td>0.000000</td>\n",
       "      <td>0.000000</td>\n",
       "      <td>0.000000</td>\n",
       "    </tr>\n",
       "    <tr>\n",
       "      <th>25%</th>\n",
       "      <td>223.500000</td>\n",
       "      <td>0.000000</td>\n",
       "      <td>2.000000</td>\n",
       "      <td>20.125000</td>\n",
       "      <td>0.000000</td>\n",
       "      <td>0.000000</td>\n",
       "      <td>7.910400</td>\n",
       "    </tr>\n",
       "    <tr>\n",
       "      <th>50%</th>\n",
       "      <td>446.000000</td>\n",
       "      <td>0.000000</td>\n",
       "      <td>3.000000</td>\n",
       "      <td>28.000000</td>\n",
       "      <td>0.000000</td>\n",
       "      <td>0.000000</td>\n",
       "      <td>14.454200</td>\n",
       "    </tr>\n",
       "    <tr>\n",
       "      <th>75%</th>\n",
       "      <td>668.500000</td>\n",
       "      <td>1.000000</td>\n",
       "      <td>3.000000</td>\n",
       "      <td>38.000000</td>\n",
       "      <td>1.000000</td>\n",
       "      <td>0.000000</td>\n",
       "      <td>31.000000</td>\n",
       "    </tr>\n",
       "    <tr>\n",
       "      <th>max</th>\n",
       "      <td>891.000000</td>\n",
       "      <td>1.000000</td>\n",
       "      <td>3.000000</td>\n",
       "      <td>80.000000</td>\n",
       "      <td>8.000000</td>\n",
       "      <td>6.000000</td>\n",
       "      <td>512.329200</td>\n",
       "    </tr>\n",
       "  </tbody>\n",
       "</table>\n",
       "</div>"
      ],
      "text/plain": [
       "       PassengerId    Survived      Pclass         Age       SibSp  \\\n",
       "count   891.000000  891.000000  891.000000  714.000000  891.000000   \n",
       "mean    446.000000    0.383838    2.308642   29.699118    0.523008   \n",
       "std     257.353842    0.486592    0.836071   14.526497    1.102743   \n",
       "min       1.000000    0.000000    1.000000    0.420000    0.000000   \n",
       "25%     223.500000    0.000000    2.000000   20.125000    0.000000   \n",
       "50%     446.000000    0.000000    3.000000   28.000000    0.000000   \n",
       "75%     668.500000    1.000000    3.000000   38.000000    1.000000   \n",
       "max     891.000000    1.000000    3.000000   80.000000    8.000000   \n",
       "\n",
       "            Parch        Fare  \n",
       "count  891.000000  891.000000  \n",
       "mean     0.381594   32.204208  \n",
       "std      0.806057   49.693429  \n",
       "min      0.000000    0.000000  \n",
       "25%      0.000000    7.910400  \n",
       "50%      0.000000   14.454200  \n",
       "75%      0.000000   31.000000  \n",
       "max      6.000000  512.329200  "
      ]
     },
     "execution_count": 3,
     "metadata": {},
     "output_type": "execute_result"
    }
   ],
   "source": [
    "train_df.describe()"
   ]
  },
  {
   "cell_type": "markdown",
   "metadata": {},
   "source": [
    "<font color='red'>由此我們可以發現 **Age count** 比其他的特徵都還要少。</font>"
   ]
  },
  {
   "cell_type": "code",
   "execution_count": 4,
   "metadata": {},
   "outputs": [
    {
     "name": "stdout",
     "output_type": "stream",
     "text": [
      "Index(['PassengerId', 'Survived', 'Pclass', 'Name', 'Sex', 'Age', 'SibSp',\n",
      "       'Parch', 'Ticket', 'Fare', 'Cabin', 'Embarked'],\n",
      "      dtype='object')\n",
      "Index(['PassengerId', 'Pclass', 'Name', 'Sex', 'Age', 'SibSp', 'Parch',\n",
      "       'Ticket', 'Fare', 'Cabin', 'Embarked'],\n",
      "      dtype='object')\n"
     ]
    }
   ],
   "source": [
    "print(train_df.keys())\n",
    "print(test_df.keys())"
   ]
  },
  {
   "cell_type": "markdown",
   "metadata": {},
   "source": [
    "<font color='red'>另外還可以發現 **test** 的資料比 **train** 的資料還要少了 **Survived** 的欄位</font>"
   ]
  },
  {
   "cell_type": "markdown",
   "metadata": {},
   "source": [
    "## 3. Plotting and Visualizing Data"
   ]
  },
  {
   "cell_type": "markdown",
   "metadata": {},
   "source": [
    "Gender"
   ]
  },
  {
   "cell_type": "code",
   "execution_count": 5,
   "metadata": {},
   "outputs": [
    {
     "data": {
      "image/png": "[encoded data removed]",
      "text/plain": [
       "<Figure size 432x288 with 1 Axes>"
      ]
     },
     "metadata": {
      "needs_background": "light"
     },
     "output_type": "display_data"
    },
    {
     "name": "stdout",
     "output_type": "stream",
     "text": [
      "342\n",
      "Total people survived is: 342\n",
      "Proportion of Females who survived:\n",
      "0.6812865497076024\n",
      "Proportion of Males who survived:\n",
      "0.31871345029239767\n"
     ]
    }
   ],
   "source": [
    "# can ignore the testing set for now\n",
    "sns.barplot(x=\"Sex\", y=\"Survived\", data=train_df)\n",
    "plt.title(\"Distribution of Survival based on Gender\")\n",
    "plt.show()\n",
    "\n",
    "total_survived_females = train_df[train_df.Sex == \"female\"][\"Survived\"].sum()\n",
    "total_survived_males = train_df[train_df.Sex == \"male\"][\"Survived\"].sum()\n",
    "\n",
    "print(total_survived_females + total_survived_males)\n",
    "print(\"Total people survived is: \" + str((total_survived_females + total_survived_males)))\n",
    "print(\"Proportion of Females who survived:\") \n",
    "print(total_survived_females/(total_survived_females + total_survived_males))\n",
    "print(\"Proportion of Males who survived:\")\n",
    "print(total_survived_males/(total_survived_females + total_survived_males))"
   ]
  },
  {
   "cell_type": "markdown",
   "metadata": {},
   "source": [
    "<font color='red'>我們先來看一下 **性別** 與 **存活率** 的部分<br /> \n",
    "    training data 中的女性存活率比男性高上非常多<br /> \n",
    "    推測可能是因為禮讓女生先上救生艇，所以女性的存活率會比較高<br />\n",
    "    但是因為還有很多其他因素 例如艙等<br />\n",
    "    所以接下來來對艙等進行分析\n",
    "</font>"
   ]
  },
  {
   "cell_type": "markdown",
   "metadata": {},
   "source": [
    "Class"
   ]
  },
  {
   "cell_type": "code",
   "execution_count": 6,
   "metadata": {},
   "outputs": [
    {
     "data": {
      "image/png": "[encoded data removed]",
      "text/plain": [
       "<Figure size 432x288 with 1 Axes>"
      ]
     },
     "metadata": {
      "needs_background": "light"
     },
     "output_type": "display_data"
    },
    {
     "name": "stdout",
     "output_type": "stream",
     "text": [
      "Total people survived is: 342\n",
      "Proportion of Class 1 Passengers who survived:\n",
      "0.39766081871345027\n",
      "Proportion of Class 2 Passengers who survived:\n",
      "0.2543859649122807\n",
      "Proportion of Class 3 Passengers who survived:\n",
      "0.347953216374269\n"
     ]
    }
   ],
   "source": [
    "sns.barplot(x=\"Pclass\", y=\"Survived\", data=train_df)\n",
    "plt.ylabel(\"Survival Rate\")\n",
    "plt.title(\"Distribution of Survival Based on Class\")\n",
    "plt.show()\n",
    "\n",
    "total_survived_one = train_df[train_df.Pclass == 1][\"Survived\"].sum()\n",
    "total_survived_two = train_df[train_df.Pclass == 2][\"Survived\"].sum()\n",
    "total_survived_three = train_df[train_df.Pclass == 3][\"Survived\"].sum()\n",
    "total_survived_class = total_survived_one + total_survived_two + total_survived_three\n",
    "\n",
    "print(\"Total people survived is: \" + str(total_survived_class))\n",
    "print(\"Proportion of Class 1 Passengers who survived:\") \n",
    "print(total_survived_one/total_survived_class)\n",
    "print(\"Proportion of Class 2 Passengers who survived:\")\n",
    "print(total_survived_two/total_survived_class)\n",
    "print(\"Proportion of Class 3 Passengers who survived:\")\n",
    "print(total_survived_three/total_survived_class)"
   ]
  },
  {
   "cell_type": "markdown",
   "metadata": {},
   "source": [
    "<font color='red'>再來看一下 **艙等** 與 **存活率** 的部分<br />\n",
    "    1 : 頭等艙  2 : 商務艙  3 : 經濟艙<br /> \n",
    "    可以發現隨著艙等等級遞減 存活率也越來越低<br /> \n",
    "    推測可能是因為艙等等級越高 設備越好也比較安全<br />\n",
    "    所以出事情後存活率也會比較高\n",
    "</font>"
   ]
  },
  {
   "cell_type": "code",
   "execution_count": 7,
   "metadata": {
    "scrolled": true
   },
   "outputs": [
    {
     "data": {
      "text/plain": [
       "Text(0.5, 1.0, 'Survival Rates Based on Gender and Class')"
      ]
     },
     "execution_count": 7,
     "metadata": {},
     "output_type": "execute_result"
    },
    {
     "data": {
      "image/png": "[encoded data removed]",
      "text/plain": [
       "<Figure size 432x288 with 1 Axes>"
      ]
     },
     "metadata": {
      "needs_background": "light"
     },
     "output_type": "display_data"
    }
   ],
   "source": [
    "sns.barplot(x=\"Pclass\", y=\"Survived\", hue=\"Sex\", data=train_df)\n",
    "plt.ylabel(\"Survival Rate\")\n",
    "plt.title(\"Survival Rates Based on Gender and Class\")"
   ]
  },
  {
   "cell_type": "markdown",
   "metadata": {},
   "source": [
    "<font color='red'>接下來分別分析 **男性** 與 **女性** 的存活率<br />\n",
    "    可以發現不管是哪一個艙等 女性存活率都還是比男性高非常多<br /> \n",
    "    所以 \"因為禮讓女生先上救生艇，所以女性的存活率會比較高\" 的推論又更加可能了\n",
    "</font>"
   ]
  },
  {
   "cell_type": "code",
   "execution_count": 8,
   "metadata": {},
   "outputs": [
    {
     "data": {
      "text/plain": [
       "Text(0.5, 1.0, 'Survival Rates Based on Gender and Class')"
      ]
     },
     "execution_count": 8,
     "metadata": {},
     "output_type": "execute_result"
    },
    {
     "data": {
      "image/png": "[encoded data removed]",
      "text/plain": [
       "<Figure size 432x288 with 1 Axes>"
      ]
     },
     "metadata": {
      "needs_background": "light"
     },
     "output_type": "display_data"
    }
   ],
   "source": [
    "sns.barplot(x=\"Sex\", y=\"Survived\", hue=\"Pclass\", data=train_df)\n",
    "plt.ylabel(\"Survival Rate\")\n",
    "plt.title(\"Survival Rates Based on Gender and Class\")"
   ]
  },
  {
   "cell_type": "markdown",
   "metadata": {},
   "source": [
    "<font color='red'>和前一張圖一樣 換一個方式來比較而已\n",
    "</font>"
   ]
  },
  {
   "cell_type": "markdown",
   "metadata": {},
   "source": [
    "### 檢查離群值"
   ]
  },
  {
   "cell_type": "code",
   "execution_count": 9,
   "metadata": {},
   "outputs": [
    {
     "data": {
      "text/plain": [
       "<matplotlib.axes._subplots.AxesSubplot at 0x1235f27eda0>"
      ]
     },
     "execution_count": 9,
     "metadata": {},
     "output_type": "execute_result"
    },
    {
     "data": {
      "image/png": "[encoded data removed]",
      "text/plain": [
       "<Figure size 432x288 with 1 Axes>"
      ]
     },
     "metadata": {
      "needs_background": "light"
     },
     "output_type": "display_data"
    }
   ],
   "source": [
    "sns.stripplot(x=\"Survived\", y=\"Age\", data=train_df, jitter=True)"
   ]
  },
  {
   "cell_type": "markdown",
   "metadata": {},
   "source": [
    "<font color='red'>由圖可以發現 資料中幾乎沒有太明顯的離群值\n",
    "</font>"
   ]
  },
  {
   "cell_type": "code",
   "execution_count": 10,
   "metadata": {},
   "outputs": [],
   "source": [
    "#sns.pairplot(train_df)"
   ]
  },
  {
   "cell_type": "markdown",
   "metadata": {},
   "source": [
    "## 4.Data Preprocessing"
   ]
  },
  {
   "cell_type": "code",
   "execution_count": 11,
   "metadata": {},
   "outputs": [
    {
     "name": "stdout",
     "output_type": "stream",
     "text": [
      "(891, 12)\n",
      "(418, 11)\n",
      "\n",
      "\n",
      "(891, 8)\n",
      "(418, 8)\n"
     ]
    }
   ],
   "source": [
    "# drop unnecessary columns\n",
    "\n",
    "print(train_df.shape)\n",
    "print(test_df.shape)\n",
    "\n",
    "drop_columns_list = ['Ticket', 'Cabin', 'Name']\n",
    "train_df = train_df.drop(drop_columns_list, axis=1)\n",
    "test_df = test_df.drop(drop_columns_list, axis=1)\n",
    "\n",
    "train_df = train_df.drop(['PassengerId'], axis=1)\n",
    "\n",
    "print('\\n')\n",
    "print(train_df.shape)\n",
    "print(test_df.shape)"
   ]
  },
  {
   "cell_type": "code",
   "execution_count": 12,
   "metadata": {},
   "outputs": [
    {
     "name": "stdout",
     "output_type": "stream",
     "text": [
      "   Survived  Pclass     Sex   Age  SibSp  Parch     Fare Embarked\n",
      "0         0       3    male  22.0      1      0   7.2500        S\n",
      "1         1       1  female  38.0      1      0  71.2833        C\n",
      "2         1       3  female  26.0      0      0   7.9250        S\n",
      "3         1       1  female  35.0      1      0  53.1000        S\n",
      "4         0       3    male  35.0      0      0   8.0500        S\n",
      "   Survived  Pclass  Sex   Age  SibSp  Parch     Fare Embarked\n",
      "0         0       3    0  22.0      1      0   7.2500        S\n",
      "1         1       1    1  38.0      1      0  71.2833        C\n",
      "2         1       3    1  26.0      0      0   7.9250        S\n",
      "3         1       1    1  35.0      1      0  53.1000        S\n",
      "4         0       3    0  35.0      0      0   8.0500        S\n"
     ]
    }
   ],
   "source": [
    "# convert `Sex` to numerical values\n",
    "\n",
    "print(train_df.head())\n",
    "\n",
    "train_df['Sex'] = train_df['Sex'].map( {'female': 1, 'male': 0} ).astype(int)\n",
    "test_df['Sex'] = test_df['Sex'].map( {'female': 1, 'male': 0} ).astype(int)\n",
    "\n",
    "print(train_df.head())"
   ]
  },
  {
   "cell_type": "code",
   "execution_count": 13,
   "metadata": {},
   "outputs": [
    {
     "name": "stdout",
     "output_type": "stream",
     "text": [
      "   Survived  Pclass  Sex   Age  SibSp  Parch     Fare Embarked\n",
      "0         0       3    0  22.0      1      0   7.2500        S\n",
      "1         1       1    1  38.0      1      0  71.2833        C\n",
      "2         1       3    1  26.0      0      0   7.9250        S\n",
      "3         1       1    1  35.0      1      0  53.1000        S\n",
      "4         0       3    0  35.0      0      0   8.0500        S\n",
      "   Survived  Pclass  Sex  Age  SibSp  Parch     Fare Embarked\n",
      "0         0       3    0  1.0      1      0   7.2500        S\n",
      "1         1       1    1  2.0      1      0  71.2833        C\n",
      "2         1       3    1  1.0      0      0   7.9250        S\n",
      "3         1       1    1  2.0      1      0  53.1000        S\n",
      "4         0       3    0  2.0      0      0   8.0500        S\n"
     ]
    }
   ],
   "source": [
    "# replace `Age` with ordinals\n",
    "\n",
    "print(train_df.head())\n",
    "\n",
    "train_df.loc[ train_df['Age'] <= 16, 'Age'] = 0\n",
    "train_df.loc[(train_df['Age'] > 16) & (train_df['Age'] <= 32), 'Age'] = 1\n",
    "train_df.loc[(train_df['Age'] > 32) & (train_df['Age'] <= 48), 'Age'] = 2\n",
    "train_df.loc[(train_df['Age'] > 48) & (train_df['Age'] <= 64), 'Age'] = 3\n",
    "train_df.loc[ train_df['Age'] > 64, 'Age']\n",
    "\n",
    "test_df.loc[ test_df['Age'] <= 16, 'Age'] = 0\n",
    "test_df.loc[(test_df['Age'] > 16) & (test_df['Age'] <= 32), 'Age'] = 1\n",
    "test_df.loc[(test_df['Age'] > 32) & (test_df['Age'] <= 48), 'Age'] = 2\n",
    "test_df.loc[(test_df['Age'] > 48) & (test_df['Age'] <= 64), 'Age'] = 3\n",
    "test_df.loc[ test_df['Age'] > 64, 'Age']\n",
    "\n",
    "print(train_df.head())"
   ]
  },
  {
   "cell_type": "code",
   "execution_count": 14,
   "metadata": {},
   "outputs": [
    {
     "name": "stdout",
     "output_type": "stream",
     "text": [
      "S\n",
      "   Survived  Pclass  Sex  Age  SibSp  Parch     Fare Embarked\n",
      "0         0       3    0  1.0      1      0   7.2500        S\n",
      "1         1       1    1  2.0      1      0  71.2833        C\n",
      "2         1       3    1  1.0      0      0   7.9250        S\n",
      "3         1       1    1  2.0      1      0  53.1000        S\n",
      "4         0       3    0  2.0      0      0   8.0500        S\n",
      "   Survived  Pclass  Sex  Age  SibSp  Parch     Fare  Embarked\n",
      "0         0       3    0  1.0      1      0   7.2500         0\n",
      "1         1       1    1  2.0      1      0  71.2833         1\n",
      "2         1       3    1  1.0      0      0   7.9250         0\n",
      "3         1       1    1  2.0      1      0  53.1000         0\n",
      "4         0       3    0  2.0      0      0   8.0500         0\n"
     ]
    }
   ],
   "source": [
    "# fill missing values in column `Embarked` with the most common value\n",
    "\n",
    "common_port = train_df['Embarked'].dropna().mode()[0]\n",
    "print(common_port)\n",
    "train_df['Embarked'] = train_df['Embarked'].fillna(common_port)\n",
    "test_df['Embarked'] = test_df['Embarked'].fillna(common_port)\n",
    "\n",
    "# convert `Embarked` to numerical values\n",
    "\n",
    "print(train_df.head())\n",
    "\n",
    "train_df['Embarked'] = train_df['Embarked'].map( {'S': 0, 'C': 1, 'Q': 2} ).astype(int)\n",
    "test_df['Embarked'] = test_df['Embarked'].map( {'S': 0, 'C': 1, 'Q': 2} ).astype(int)\n",
    "\n",
    "print(train_df.head())"
   ]
  },
  {
   "cell_type": "code",
   "execution_count": 15,
   "metadata": {},
   "outputs": [
    {
     "name": "stdout",
     "output_type": "stream",
     "text": [
      "(891, 8)\n",
      "(418, 8)\n",
      "\n",
      "\n",
      "(714, 8)\n",
      "(331, 8)\n"
     ]
    }
   ],
   "source": [
    "# drop rows with missing values\n",
    "\n",
    "print(train_df.shape)\n",
    "print(test_df.shape)\n",
    "\n",
    "train_df.dropna(inplace=True)\n",
    "test_df.dropna(inplace=True)\n",
    "\n",
    "print('\\n')\n",
    "print(train_df.shape)\n",
    "print(test_df.shape)"
   ]
  },
  {
   "cell_type": "code",
   "execution_count": 16,
   "metadata": {},
   "outputs": [
    {
     "name": "stdout",
     "output_type": "stream",
     "text": [
      "(714, 7)\n",
      "   Pclass  Sex  Age  SibSp  Parch     Fare  Embarked\n",
      "0       3    0  1.0      1      0   7.2500         0\n",
      "1       1    1  2.0      1      0  71.2833         1\n",
      "2       3    1  1.0      0      0   7.9250         0\n",
      "3       1    1  2.0      1      0  53.1000         0\n",
      "4       3    0  2.0      0      0   8.0500         0\n",
      "\n",
      "\n",
      "(714,)\n",
      "0    0\n",
      "1    1\n",
      "2    1\n",
      "3    1\n",
      "4    0\n",
      "Name: Survived, dtype: int64\n",
      "\n",
      "\n",
      "(331, 7)\n",
      "   Pclass  Sex  Age  SibSp  Parch     Fare  Embarked\n",
      "0       3    0  2.0      0      0   7.8292         2\n",
      "1       3    1  2.0      1      0   7.0000         0\n",
      "2       2    0  3.0      0      0   9.6875         2\n",
      "3       3    0  1.0      0      0   8.6625         0\n",
      "4       3    1  1.0      1      1  12.2875         0\n",
      "\n",
      "\n"
     ]
    }
   ],
   "source": [
    "# make training & testint data\n",
    "\n",
    "X_train = train_df.drop(\"Survived\", axis=1)\n",
    "Y_train = train_df[\"Survived\"]\n",
    "X_test  = test_df.drop(\"PassengerId\", axis=1).copy()\n",
    "\n",
    "print(X_train.shape)\n",
    "print(X_train.head())\n",
    "print('\\n')\n",
    "print(Y_train.shape)\n",
    "print(Y_train.head())\n",
    "print('\\n')\n",
    "print(X_test.shape)\n",
    "print(X_test.head())\n",
    "print('\\n')"
   ]
  },
  {
   "cell_type": "markdown",
   "metadata": {},
   "source": [
    "## 5.Predict & Generate submission data"
   ]
  },
  {
   "cell_type": "markdown",
   "metadata": {},
   "source": [
    "### 5.1 KNN"
   ]
  },
  {
   "cell_type": "code",
   "execution_count": 17,
   "metadata": {
    "scrolled": true
   },
   "outputs": [
    {
     "name": "stdout",
     "output_type": "stream",
     "text": [
      "training accuracy: 0.87115\n"
     ]
    }
   ],
   "source": [
    "# knn\n",
    "\n",
    "knn = KNeighborsClassifier(n_neighbors = 3)\n",
    "knn.fit(X_train, Y_train)\n",
    "# Y_pred = knn.predict(X_test)\n",
    "acc_knn = knn.score(X_train, Y_train)\n",
    "print('training accuracy: %.5f' % acc_knn)"
   ]
  },
  {
   "cell_type": "markdown",
   "metadata": {},
   "source": [
    "<font color='red'>這是助教的其中一個範例程式碼<br /> \n",
    "    但是範例全部都只有 training accuracy 並沒有做 testing accuracy<br /> \n",
    "    所以接下來我們會把 training data 使用 **k fold** 的方法去做 **cross validation**<br /> \n",
    "    分成五份 把一份拿出來測試<br />\n",
    "    並且做五次 每一次拿的那一份都選不一樣的\n",
    "</font>"
   ]
  },
  {
   "cell_type": "markdown",
   "metadata": {},
   "source": [
    "### K-fold"
   ]
  },
  {
   "cell_type": "code",
   "execution_count": 18,
   "metadata": {},
   "outputs": [
    {
     "name": "stdout",
     "output_type": "stream",
     "text": [
      "【Round 1】\n",
      "Train: 143 ~ 285, 286 ~ 428, 429 ~ 571, 572 ~ 713\n",
      "Test: 0 ~ 142\n",
      "\n",
      "【Round 2】\n",
      "Train: 0 ~ 142, 286 ~ 428, 429 ~ 571, 572 ~ 713\n",
      "Test: 143 ~ 285\n",
      "\n",
      "【Round 3】\n",
      "Train: 0 ~ 142, 143 ~ 285, 429 ~ 571, 572 ~ 713\n",
      "Test: 286 ~ 428\n",
      "\n",
      "【Round 4】\n",
      "Train: 0 ~ 142, 143 ~ 285, 286 ~ 428, 572 ~ 713\n",
      "Test: 429 ~ 571\n",
      "\n",
      "【Round 5】\n",
      "Train: 0 ~ 142, 143 ~ 285, 286 ~ 428, 429 ~ 571\n",
      "Test: 572 ~ 713\n",
      "\n"
     ]
    }
   ],
   "source": [
    "from sklearn.model_selection import KFold\n",
    "kfold = KFold(n_splits = 5) # 分成 5 等分\n",
    "i = 0\n",
    "for train_index, test_index in kfold.split(X_train):\n",
    "    i += 1\n",
    "    print(\"【Round {}】\".format(i))\n",
    "    print(\"Train: {} ~ {}, {} ~ {}, {} ~ {}, {} ~ {}\".format(train_index[0], train_index[142],\n",
    "                                                             train_index[143], train_index[285],\n",
    "                                                             train_index[286], train_index[428],\n",
    "                                                             train_index[429], train_index[-1],))\n",
    "    print(\"Test: {} ~ {}\\n\".format(test_index[0], test_index[-1]))\n"
   ]
  },
  {
   "cell_type": "code",
   "execution_count": 19,
   "metadata": {},
   "outputs": [],
   "source": [
    "# the function used to calculte accuracies with k-fold validation\n",
    "\n",
    "def calc_acc(clf, print_out=False):  \n",
    "    # parameter: a classifier object\n",
    "    # 3 returns: average_train_acc, average__test_acc, all_acc_array\n",
    "    \n",
    "    acc_dt = np.zeros((2,5))\n",
    "    i = 0\n",
    "    for train_index, test_index in kfold.split(train_df):\n",
    "        kfold_X_train = train_df.iloc[train_index].drop(\"Survived\", axis=1)\n",
    "        kfold_Y_train = train_df.iloc[train_index][\"Survived\"]\n",
    "        kfold_X_test  = train_df.iloc[test_index].drop(\"Survived\", axis=1)\n",
    "        kfold_Y_test  = train_df.iloc[test_index][\"Survived\"]\n",
    "\n",
    "        clf.fit(kfold_X_train, kfold_Y_train)\n",
    "        acc_train = clf.score(kfold_X_train, kfold_Y_train)\n",
    "        acc_test = clf.score(kfold_X_test, kfold_Y_test)\n",
    "        acc_dt[0,i] = acc_train\n",
    "        acc_dt[1,i] = acc_test\n",
    "        i += 1\n",
    "    if print_out == True:\n",
    "        print(\"Average training accuracy: {}\".format(np.mean(acc_dt[0,:])))\n",
    "        print(\"Average testing accuracy: {}\\n\".format(np.mean(acc_dt[1,:])))\n",
    "    return np.mean(acc_dt[0,:]), np.mean(acc_dt[1,:]), acc_dt"
   ]
  },
  {
   "cell_type": "markdown",
   "metadata": {},
   "source": [
    "### 5.2 SVM"
   ]
  },
  {
   "cell_type": "code",
   "execution_count": 20,
   "metadata": {},
   "outputs": [
    {
     "name": "stderr",
     "output_type": "stream",
     "text": [
      "C:\\Users\\admin\\Anaconda3\\lib\\site-packages\\sklearn\\svm\\base.py:196: FutureWarning: The default value of gamma will change from 'auto' to 'scale' in version 0.22 to account better for unscaled features. Set gamma explicitly to 'auto' or 'scale' to avoid this warning.\n",
      "  \"avoid this warning.\", FutureWarning)\n",
      "C:\\Users\\admin\\Anaconda3\\lib\\site-packages\\sklearn\\svm\\base.py:196: FutureWarning: The default value of gamma will change from 'auto' to 'scale' in version 0.22 to account better for unscaled features. Set gamma explicitly to 'auto' or 'scale' to avoid this warning.\n",
      "  \"avoid this warning.\", FutureWarning)\n",
      "C:\\Users\\admin\\Anaconda3\\lib\\site-packages\\sklearn\\svm\\base.py:196: FutureWarning: The default value of gamma will change from 'auto' to 'scale' in version 0.22 to account better for unscaled features. Set gamma explicitly to 'auto' or 'scale' to avoid this warning.\n",
      "  \"avoid this warning.\", FutureWarning)\n"
     ]
    },
    {
     "name": "stdout",
     "output_type": "stream",
     "text": [
      "Average training accuracy: 0.8634483729930315\n",
      "Average testing accuracy: 0.7381759085984438\n",
      "\n"
     ]
    },
    {
     "name": "stderr",
     "output_type": "stream",
     "text": [
      "C:\\Users\\admin\\Anaconda3\\lib\\site-packages\\sklearn\\svm\\base.py:196: FutureWarning: The default value of gamma will change from 'auto' to 'scale' in version 0.22 to account better for unscaled features. Set gamma explicitly to 'auto' or 'scale' to avoid this warning.\n",
      "  \"avoid this warning.\", FutureWarning)\n",
      "C:\\Users\\admin\\Anaconda3\\lib\\site-packages\\sklearn\\svm\\base.py:196: FutureWarning: The default value of gamma will change from 'auto' to 'scale' in version 0.22 to account better for unscaled features. Set gamma explicitly to 'auto' or 'scale' to avoid this warning.\n",
      "  \"avoid this warning.\", FutureWarning)\n"
     ]
    },
    {
     "data": {
      "text/plain": [
       "(0.8634483729930315,\n",
       " 0.7381759085984438,\n",
       " array([[0.84938704, 0.88966725, 0.85113835, 0.87215412, 0.8548951 ],\n",
       "        [0.67132867, 0.71328671, 0.74125874, 0.76923077, 0.79577465]]))"
      ]
     },
     "execution_count": 20,
     "metadata": {},
     "output_type": "execute_result"
    }
   ],
   "source": [
    "# support vector machine\n",
    "svc = SVC()\n",
    "calc_acc(svc, print_out=True)"
   ]
  },
  {
   "cell_type": "code",
   "execution_count": 21,
   "metadata": {},
   "outputs": [
    {
     "name": "stderr",
     "output_type": "stream",
     "text": [
      "C:\\Users\\admin\\Anaconda3\\lib\\site-packages\\sklearn\\svm\\base.py:196: FutureWarning: The default value of gamma will change from 'auto' to 'scale' in version 0.22 to account better for unscaled features. Set gamma explicitly to 'auto' or 'scale' to avoid this warning.\n",
      "  \"avoid this warning.\", FutureWarning)\n",
      "C:\\Users\\admin\\Anaconda3\\lib\\site-packages\\sklearn\\svm\\base.py:196: FutureWarning: The default value of gamma will change from 'auto' to 'scale' in version 0.22 to account better for unscaled features. Set gamma explicitly to 'auto' or 'scale' to avoid this warning.\n",
      "  \"avoid this warning.\", FutureWarning)\n"
     ]
    },
    {
     "name": "stdout",
     "output_type": "stream",
     "text": [
      "C = 0.1\n"
     ]
    },
    {
     "name": "stderr",
     "output_type": "stream",
     "text": [
      "C:\\Users\\admin\\Anaconda3\\lib\\site-packages\\sklearn\\svm\\base.py:196: FutureWarning: The default value of gamma will change from 'auto' to 'scale' in version 0.22 to account better for unscaled features. Set gamma explicitly to 'auto' or 'scale' to avoid this warning.\n",
      "  \"avoid this warning.\", FutureWarning)\n",
      "C:\\Users\\admin\\Anaconda3\\lib\\site-packages\\sklearn\\svm\\base.py:196: FutureWarning: The default value of gamma will change from 'auto' to 'scale' in version 0.22 to account better for unscaled features. Set gamma explicitly to 'auto' or 'scale' to avoid this warning.\n",
      "  \"avoid this warning.\", FutureWarning)\n",
      "C:\\Users\\admin\\Anaconda3\\lib\\site-packages\\sklearn\\svm\\base.py:196: FutureWarning: The default value of gamma will change from 'auto' to 'scale' in version 0.22 to account better for unscaled features. Set gamma explicitly to 'auto' or 'scale' to avoid this warning.\n",
      "  \"avoid this warning.\", FutureWarning)\n",
      "C:\\Users\\admin\\Anaconda3\\lib\\site-packages\\sklearn\\svm\\base.py:196: FutureWarning: The default value of gamma will change from 'auto' to 'scale' in version 0.22 to account better for unscaled features. Set gamma explicitly to 'auto' or 'scale' to avoid this warning.\n",
      "  \"avoid this warning.\", FutureWarning)\n",
      "C:\\Users\\admin\\Anaconda3\\lib\\site-packages\\sklearn\\svm\\base.py:196: FutureWarning: The default value of gamma will change from 'auto' to 'scale' in version 0.22 to account better for unscaled features. Set gamma explicitly to 'auto' or 'scale' to avoid this warning.\n",
      "  \"avoid this warning.\", FutureWarning)\n",
      "C:\\Users\\admin\\Anaconda3\\lib\\site-packages\\sklearn\\svm\\base.py:196: FutureWarning: The default value of gamma will change from 'auto' to 'scale' in version 0.22 to account better for unscaled features. Set gamma explicitly to 'auto' or 'scale' to avoid this warning.\n",
      "  \"avoid this warning.\", FutureWarning)\n",
      "C:\\Users\\admin\\Anaconda3\\lib\\site-packages\\sklearn\\svm\\base.py:196: FutureWarning: The default value of gamma will change from 'auto' to 'scale' in version 0.22 to account better for unscaled features. Set gamma explicitly to 'auto' or 'scale' to avoid this warning.\n",
      "  \"avoid this warning.\", FutureWarning)\n",
      "C:\\Users\\admin\\Anaconda3\\lib\\site-packages\\sklearn\\svm\\base.py:196: FutureWarning: The default value of gamma will change from 'auto' to 'scale' in version 0.22 to account better for unscaled features. Set gamma explicitly to 'auto' or 'scale' to avoid this warning.\n",
      "  \"avoid this warning.\", FutureWarning)\n",
      "C:\\Users\\admin\\Anaconda3\\lib\\site-packages\\sklearn\\svm\\base.py:196: FutureWarning: The default value of gamma will change from 'auto' to 'scale' in version 0.22 to account better for unscaled features. Set gamma explicitly to 'auto' or 'scale' to avoid this warning.\n",
      "  \"avoid this warning.\", FutureWarning)\n",
      "C:\\Users\\admin\\Anaconda3\\lib\\site-packages\\sklearn\\svm\\base.py:196: FutureWarning: The default value of gamma will change from 'auto' to 'scale' in version 0.22 to account better for unscaled features. Set gamma explicitly to 'auto' or 'scale' to avoid this warning.\n",
      "  \"avoid this warning.\", FutureWarning)\n",
      "C:\\Users\\admin\\Anaconda3\\lib\\site-packages\\sklearn\\svm\\base.py:196: FutureWarning: The default value of gamma will change from 'auto' to 'scale' in version 0.22 to account better for unscaled features. Set gamma explicitly to 'auto' or 'scale' to avoid this warning.\n",
      "  \"avoid this warning.\", FutureWarning)\n",
      "C:\\Users\\admin\\Anaconda3\\lib\\site-packages\\sklearn\\svm\\base.py:196: FutureWarning: The default value of gamma will change from 'auto' to 'scale' in version 0.22 to account better for unscaled features. Set gamma explicitly to 'auto' or 'scale' to avoid this warning.\n",
      "  \"avoid this warning.\", FutureWarning)\n"
     ]
    },
    {
     "name": "stdout",
     "output_type": "stream",
     "text": [
      "Average training accuracy: 0.6302573083658898\n",
      "Average testing accuracy: 0.5617255983453167\n",
      "\n",
      "C = 0.2\n"
     ]
    },
    {
     "name": "stderr",
     "output_type": "stream",
     "text": [
      "C:\\Users\\admin\\Anaconda3\\lib\\site-packages\\sklearn\\svm\\base.py:196: FutureWarning: The default value of gamma will change from 'auto' to 'scale' in version 0.22 to account better for unscaled features. Set gamma explicitly to 'auto' or 'scale' to avoid this warning.\n",
      "  \"avoid this warning.\", FutureWarning)\n",
      "C:\\Users\\admin\\Anaconda3\\lib\\site-packages\\sklearn\\svm\\base.py:196: FutureWarning: The default value of gamma will change from 'auto' to 'scale' in version 0.22 to account better for unscaled features. Set gamma explicitly to 'auto' or 'scale' to avoid this warning.\n",
      "  \"avoid this warning.\", FutureWarning)\n",
      "C:\\Users\\admin\\Anaconda3\\lib\\site-packages\\sklearn\\svm\\base.py:196: FutureWarning: The default value of gamma will change from 'auto' to 'scale' in version 0.22 to account better for unscaled features. Set gamma explicitly to 'auto' or 'scale' to avoid this warning.\n",
      "  \"avoid this warning.\", FutureWarning)\n",
      "C:\\Users\\admin\\Anaconda3\\lib\\site-packages\\sklearn\\svm\\base.py:196: FutureWarning: The default value of gamma will change from 'auto' to 'scale' in version 0.22 to account better for unscaled features. Set gamma explicitly to 'auto' or 'scale' to avoid this warning.\n",
      "  \"avoid this warning.\", FutureWarning)\n",
      "C:\\Users\\admin\\Anaconda3\\lib\\site-packages\\sklearn\\svm\\base.py:196: FutureWarning: The default value of gamma will change from 'auto' to 'scale' in version 0.22 to account better for unscaled features. Set gamma explicitly to 'auto' or 'scale' to avoid this warning.\n",
      "  \"avoid this warning.\", FutureWarning)\n",
      "C:\\Users\\admin\\Anaconda3\\lib\\site-packages\\sklearn\\svm\\base.py:196: FutureWarning: The default value of gamma will change from 'auto' to 'scale' in version 0.22 to account better for unscaled features. Set gamma explicitly to 'auto' or 'scale' to avoid this warning.\n",
      "  \"avoid this warning.\", FutureWarning)\n",
      "C:\\Users\\admin\\Anaconda3\\lib\\site-packages\\sklearn\\svm\\base.py:196: FutureWarning: The default value of gamma will change from 'auto' to 'scale' in version 0.22 to account better for unscaled features. Set gamma explicitly to 'auto' or 'scale' to avoid this warning.\n",
      "  \"avoid this warning.\", FutureWarning)\n",
      "C:\\Users\\admin\\Anaconda3\\lib\\site-packages\\sklearn\\svm\\base.py:196: FutureWarning: The default value of gamma will change from 'auto' to 'scale' in version 0.22 to account better for unscaled features. Set gamma explicitly to 'auto' or 'scale' to avoid this warning.\n",
      "  \"avoid this warning.\", FutureWarning)\n",
      "C:\\Users\\admin\\Anaconda3\\lib\\site-packages\\sklearn\\svm\\base.py:196: FutureWarning: The default value of gamma will change from 'auto' to 'scale' in version 0.22 to account better for unscaled features. Set gamma explicitly to 'auto' or 'scale' to avoid this warning.\n",
      "  \"avoid this warning.\", FutureWarning)\n"
     ]
    },
    {
     "name": "stdout",
     "output_type": "stream",
     "text": [
      "Average training accuracy: 0.7619009711829327\n",
      "Average testing accuracy: 0.6639712400275781\n",
      "\n",
      "C = 0.30000000000000004\n"
     ]
    },
    {
     "name": "stderr",
     "output_type": "stream",
     "text": [
      "C:\\Users\\admin\\Anaconda3\\lib\\site-packages\\sklearn\\svm\\base.py:196: FutureWarning: The default value of gamma will change from 'auto' to 'scale' in version 0.22 to account better for unscaled features. Set gamma explicitly to 'auto' or 'scale' to avoid this warning.\n",
      "  \"avoid this warning.\", FutureWarning)\n",
      "C:\\Users\\admin\\Anaconda3\\lib\\site-packages\\sklearn\\svm\\base.py:196: FutureWarning: The default value of gamma will change from 'auto' to 'scale' in version 0.22 to account better for unscaled features. Set gamma explicitly to 'auto' or 'scale' to avoid this warning.\n",
      "  \"avoid this warning.\", FutureWarning)\n",
      "C:\\Users\\admin\\Anaconda3\\lib\\site-packages\\sklearn\\svm\\base.py:196: FutureWarning: The default value of gamma will change from 'auto' to 'scale' in version 0.22 to account better for unscaled features. Set gamma explicitly to 'auto' or 'scale' to avoid this warning.\n",
      "  \"avoid this warning.\", FutureWarning)\n",
      "C:\\Users\\admin\\Anaconda3\\lib\\site-packages\\sklearn\\svm\\base.py:196: FutureWarning: The default value of gamma will change from 'auto' to 'scale' in version 0.22 to account better for unscaled features. Set gamma explicitly to 'auto' or 'scale' to avoid this warning.\n",
      "  \"avoid this warning.\", FutureWarning)\n",
      "C:\\Users\\admin\\Anaconda3\\lib\\site-packages\\sklearn\\svm\\base.py:196: FutureWarning: The default value of gamma will change from 'auto' to 'scale' in version 0.22 to account better for unscaled features. Set gamma explicitly to 'auto' or 'scale' to avoid this warning.\n",
      "  \"avoid this warning.\", FutureWarning)\n",
      "C:\\Users\\admin\\Anaconda3\\lib\\site-packages\\sklearn\\svm\\base.py:196: FutureWarning: The default value of gamma will change from 'auto' to 'scale' in version 0.22 to account better for unscaled features. Set gamma explicitly to 'auto' or 'scale' to avoid this warning.\n",
      "  \"avoid this warning.\", FutureWarning)\n",
      "C:\\Users\\admin\\Anaconda3\\lib\\site-packages\\sklearn\\svm\\base.py:196: FutureWarning: The default value of gamma will change from 'auto' to 'scale' in version 0.22 to account better for unscaled features. Set gamma explicitly to 'auto' or 'scale' to avoid this warning.\n",
      "  \"avoid this warning.\", FutureWarning)\n",
      "C:\\Users\\admin\\Anaconda3\\lib\\site-packages\\sklearn\\svm\\base.py:196: FutureWarning: The default value of gamma will change from 'auto' to 'scale' in version 0.22 to account better for unscaled features. Set gamma explicitly to 'auto' or 'scale' to avoid this warning.\n",
      "  \"avoid this warning.\", FutureWarning)\n",
      "C:\\Users\\admin\\Anaconda3\\lib\\site-packages\\sklearn\\svm\\base.py:196: FutureWarning: The default value of gamma will change from 'auto' to 'scale' in version 0.22 to account better for unscaled features. Set gamma explicitly to 'auto' or 'scale' to avoid this warning.\n",
      "  \"avoid this warning.\", FutureWarning)\n",
      "C:\\Users\\admin\\Anaconda3\\lib\\site-packages\\sklearn\\svm\\base.py:196: FutureWarning: The default value of gamma will change from 'auto' to 'scale' in version 0.22 to account better for unscaled features. Set gamma explicitly to 'auto' or 'scale' to avoid this warning.\n",
      "  \"avoid this warning.\", FutureWarning)\n",
      "C:\\Users\\admin\\Anaconda3\\lib\\site-packages\\sklearn\\svm\\base.py:196: FutureWarning: The default value of gamma will change from 'auto' to 'scale' in version 0.22 to account better for unscaled features. Set gamma explicitly to 'auto' or 'scale' to avoid this warning.\n",
      "  \"avoid this warning.\", FutureWarning)\n"
     ]
    },
    {
     "name": "stdout",
     "output_type": "stream",
     "text": [
      "Average training accuracy: 0.80216832204573\n",
      "Average testing accuracy: 0.7045602285038904\n",
      "\n",
      "C = 0.4\n"
     ]
    },
    {
     "name": "stderr",
     "output_type": "stream",
     "text": [
      "C:\\Users\\admin\\Anaconda3\\lib\\site-packages\\sklearn\\svm\\base.py:196: FutureWarning: The default value of gamma will change from 'auto' to 'scale' in version 0.22 to account better for unscaled features. Set gamma explicitly to 'auto' or 'scale' to avoid this warning.\n",
      "  \"avoid this warning.\", FutureWarning)\n",
      "C:\\Users\\admin\\Anaconda3\\lib\\site-packages\\sklearn\\svm\\base.py:196: FutureWarning: The default value of gamma will change from 'auto' to 'scale' in version 0.22 to account better for unscaled features. Set gamma explicitly to 'auto' or 'scale' to avoid this warning.\n",
      "  \"avoid this warning.\", FutureWarning)\n",
      "C:\\Users\\admin\\Anaconda3\\lib\\site-packages\\sklearn\\svm\\base.py:196: FutureWarning: The default value of gamma will change from 'auto' to 'scale' in version 0.22 to account better for unscaled features. Set gamma explicitly to 'auto' or 'scale' to avoid this warning.\n",
      "  \"avoid this warning.\", FutureWarning)\n",
      "C:\\Users\\admin\\Anaconda3\\lib\\site-packages\\sklearn\\svm\\base.py:196: FutureWarning: The default value of gamma will change from 'auto' to 'scale' in version 0.22 to account better for unscaled features. Set gamma explicitly to 'auto' or 'scale' to avoid this warning.\n",
      "  \"avoid this warning.\", FutureWarning)\n",
      "C:\\Users\\admin\\Anaconda3\\lib\\site-packages\\sklearn\\svm\\base.py:196: FutureWarning: The default value of gamma will change from 'auto' to 'scale' in version 0.22 to account better for unscaled features. Set gamma explicitly to 'auto' or 'scale' to avoid this warning.\n",
      "  \"avoid this warning.\", FutureWarning)\n",
      "C:\\Users\\admin\\Anaconda3\\lib\\site-packages\\sklearn\\svm\\base.py:196: FutureWarning: The default value of gamma will change from 'auto' to 'scale' in version 0.22 to account better for unscaled features. Set gamma explicitly to 'auto' or 'scale' to avoid this warning.\n",
      "  \"avoid this warning.\", FutureWarning)\n",
      "C:\\Users\\admin\\Anaconda3\\lib\\site-packages\\sklearn\\svm\\base.py:196: FutureWarning: The default value of gamma will change from 'auto' to 'scale' in version 0.22 to account better for unscaled features. Set gamma explicitly to 'auto' or 'scale' to avoid this warning.\n",
      "  \"avoid this warning.\", FutureWarning)\n",
      "C:\\Users\\admin\\Anaconda3\\lib\\site-packages\\sklearn\\svm\\base.py:196: FutureWarning: The default value of gamma will change from 'auto' to 'scale' in version 0.22 to account better for unscaled features. Set gamma explicitly to 'auto' or 'scale' to avoid this warning.\n",
      "  \"avoid this warning.\", FutureWarning)\n",
      "C:\\Users\\admin\\Anaconda3\\lib\\site-packages\\sklearn\\svm\\base.py:196: FutureWarning: The default value of gamma will change from 'auto' to 'scale' in version 0.22 to account better for unscaled features. Set gamma explicitly to 'auto' or 'scale' to avoid this warning.\n",
      "  \"avoid this warning.\", FutureWarning)\n"
     ]
    },
    {
     "name": "stdout",
     "output_type": "stream",
     "text": [
      "Average training accuracy: 0.8273811127576451\n",
      "Average testing accuracy: 0.7199349945828819\n",
      "\n",
      "C = 0.5\n"
     ]
    },
    {
     "name": "stderr",
     "output_type": "stream",
     "text": [
      "C:\\Users\\admin\\Anaconda3\\lib\\site-packages\\sklearn\\svm\\base.py:196: FutureWarning: The default value of gamma will change from 'auto' to 'scale' in version 0.22 to account better for unscaled features. Set gamma explicitly to 'auto' or 'scale' to avoid this warning.\n",
      "  \"avoid this warning.\", FutureWarning)\n",
      "C:\\Users\\admin\\Anaconda3\\lib\\site-packages\\sklearn\\svm\\base.py:196: FutureWarning: The default value of gamma will change from 'auto' to 'scale' in version 0.22 to account better for unscaled features. Set gamma explicitly to 'auto' or 'scale' to avoid this warning.\n",
      "  \"avoid this warning.\", FutureWarning)\n",
      "C:\\Users\\admin\\Anaconda3\\lib\\site-packages\\sklearn\\svm\\base.py:196: FutureWarning: The default value of gamma will change from 'auto' to 'scale' in version 0.22 to account better for unscaled features. Set gamma explicitly to 'auto' or 'scale' to avoid this warning.\n",
      "  \"avoid this warning.\", FutureWarning)\n",
      "C:\\Users\\admin\\Anaconda3\\lib\\site-packages\\sklearn\\svm\\base.py:196: FutureWarning: The default value of gamma will change from 'auto' to 'scale' in version 0.22 to account better for unscaled features. Set gamma explicitly to 'auto' or 'scale' to avoid this warning.\n",
      "  \"avoid this warning.\", FutureWarning)\n",
      "C:\\Users\\admin\\Anaconda3\\lib\\site-packages\\sklearn\\svm\\base.py:196: FutureWarning: The default value of gamma will change from 'auto' to 'scale' in version 0.22 to account better for unscaled features. Set gamma explicitly to 'auto' or 'scale' to avoid this warning.\n",
      "  \"avoid this warning.\", FutureWarning)\n",
      "C:\\Users\\admin\\Anaconda3\\lib\\site-packages\\sklearn\\svm\\base.py:196: FutureWarning: The default value of gamma will change from 'auto' to 'scale' in version 0.22 to account better for unscaled features. Set gamma explicitly to 'auto' or 'scale' to avoid this warning.\n",
      "  \"avoid this warning.\", FutureWarning)\n",
      "C:\\Users\\admin\\Anaconda3\\lib\\site-packages\\sklearn\\svm\\base.py:196: FutureWarning: The default value of gamma will change from 'auto' to 'scale' in version 0.22 to account better for unscaled features. Set gamma explicitly to 'auto' or 'scale' to avoid this warning.\n",
      "  \"avoid this warning.\", FutureWarning)\n",
      "C:\\Users\\admin\\Anaconda3\\lib\\site-packages\\sklearn\\svm\\base.py:196: FutureWarning: The default value of gamma will change from 'auto' to 'scale' in version 0.22 to account better for unscaled features. Set gamma explicitly to 'auto' or 'scale' to avoid this warning.\n",
      "  \"avoid this warning.\", FutureWarning)\n",
      "C:\\Users\\admin\\Anaconda3\\lib\\site-packages\\sklearn\\svm\\base.py:196: FutureWarning: The default value of gamma will change from 'auto' to 'scale' in version 0.22 to account better for unscaled features. Set gamma explicitly to 'auto' or 'scale' to avoid this warning.\n",
      "  \"avoid this warning.\", FutureWarning)\n",
      "C:\\Users\\admin\\Anaconda3\\lib\\site-packages\\sklearn\\svm\\base.py:196: FutureWarning: The default value of gamma will change from 'auto' to 'scale' in version 0.22 to account better for unscaled features. Set gamma explicitly to 'auto' or 'scale' to avoid this warning.\n",
      "  \"avoid this warning.\", FutureWarning)\n",
      "C:\\Users\\admin\\Anaconda3\\lib\\site-packages\\sklearn\\svm\\base.py:196: FutureWarning: The default value of gamma will change from 'auto' to 'scale' in version 0.22 to account better for unscaled features. Set gamma explicitly to 'auto' or 'scale' to avoid this warning.\n",
      "  \"avoid this warning.\", FutureWarning)\n"
     ]
    },
    {
     "name": "stdout",
     "output_type": "stream",
     "text": [
      "Average training accuracy: 0.8312327777301508\n",
      "Average testing accuracy: 0.7227420466857086\n",
      "\n",
      "C = 0.6\n"
     ]
    },
    {
     "name": "stderr",
     "output_type": "stream",
     "text": [
      "C:\\Users\\admin\\Anaconda3\\lib\\site-packages\\sklearn\\svm\\base.py:196: FutureWarning: The default value of gamma will change from 'auto' to 'scale' in version 0.22 to account better for unscaled features. Set gamma explicitly to 'auto' or 'scale' to avoid this warning.\n",
      "  \"avoid this warning.\", FutureWarning)\n",
      "C:\\Users\\admin\\Anaconda3\\lib\\site-packages\\sklearn\\svm\\base.py:196: FutureWarning: The default value of gamma will change from 'auto' to 'scale' in version 0.22 to account better for unscaled features. Set gamma explicitly to 'auto' or 'scale' to avoid this warning.\n",
      "  \"avoid this warning.\", FutureWarning)\n",
      "C:\\Users\\admin\\Anaconda3\\lib\\site-packages\\sklearn\\svm\\base.py:196: FutureWarning: The default value of gamma will change from 'auto' to 'scale' in version 0.22 to account better for unscaled features. Set gamma explicitly to 'auto' or 'scale' to avoid this warning.\n",
      "  \"avoid this warning.\", FutureWarning)\n",
      "C:\\Users\\admin\\Anaconda3\\lib\\site-packages\\sklearn\\svm\\base.py:196: FutureWarning: The default value of gamma will change from 'auto' to 'scale' in version 0.22 to account better for unscaled features. Set gamma explicitly to 'auto' or 'scale' to avoid this warning.\n",
      "  \"avoid this warning.\", FutureWarning)\n",
      "C:\\Users\\admin\\Anaconda3\\lib\\site-packages\\sklearn\\svm\\base.py:196: FutureWarning: The default value of gamma will change from 'auto' to 'scale' in version 0.22 to account better for unscaled features. Set gamma explicitly to 'auto' or 'scale' to avoid this warning.\n",
      "  \"avoid this warning.\", FutureWarning)\n",
      "C:\\Users\\admin\\Anaconda3\\lib\\site-packages\\sklearn\\svm\\base.py:196: FutureWarning: The default value of gamma will change from 'auto' to 'scale' in version 0.22 to account better for unscaled features. Set gamma explicitly to 'auto' or 'scale' to avoid this warning.\n",
      "  \"avoid this warning.\", FutureWarning)\n",
      "C:\\Users\\admin\\Anaconda3\\lib\\site-packages\\sklearn\\svm\\base.py:196: FutureWarning: The default value of gamma will change from 'auto' to 'scale' in version 0.22 to account better for unscaled features. Set gamma explicitly to 'auto' or 'scale' to avoid this warning.\n",
      "  \"avoid this warning.\", FutureWarning)\n",
      "C:\\Users\\admin\\Anaconda3\\lib\\site-packages\\sklearn\\svm\\base.py:196: FutureWarning: The default value of gamma will change from 'auto' to 'scale' in version 0.22 to account better for unscaled features. Set gamma explicitly to 'auto' or 'scale' to avoid this warning.\n",
      "  \"avoid this warning.\", FutureWarning)\n"
     ]
    },
    {
     "name": "stdout",
     "output_type": "stream",
     "text": [
      "Average training accuracy: 0.8466400499675457\n",
      "Average testing accuracy: 0.7269673987983848\n",
      "\n",
      "C = 0.7000000000000001\n"
     ]
    },
    {
     "name": "stderr",
     "output_type": "stream",
     "text": [
      "C:\\Users\\admin\\Anaconda3\\lib\\site-packages\\sklearn\\svm\\base.py:196: FutureWarning: The default value of gamma will change from 'auto' to 'scale' in version 0.22 to account better for unscaled features. Set gamma explicitly to 'auto' or 'scale' to avoid this warning.\n",
      "  \"avoid this warning.\", FutureWarning)\n",
      "C:\\Users\\admin\\Anaconda3\\lib\\site-packages\\sklearn\\svm\\base.py:196: FutureWarning: The default value of gamma will change from 'auto' to 'scale' in version 0.22 to account better for unscaled features. Set gamma explicitly to 'auto' or 'scale' to avoid this warning.\n",
      "  \"avoid this warning.\", FutureWarning)\n",
      "C:\\Users\\admin\\Anaconda3\\lib\\site-packages\\sklearn\\svm\\base.py:196: FutureWarning: The default value of gamma will change from 'auto' to 'scale' in version 0.22 to account better for unscaled features. Set gamma explicitly to 'auto' or 'scale' to avoid this warning.\n",
      "  \"avoid this warning.\", FutureWarning)\n",
      "C:\\Users\\admin\\Anaconda3\\lib\\site-packages\\sklearn\\svm\\base.py:196: FutureWarning: The default value of gamma will change from 'auto' to 'scale' in version 0.22 to account better for unscaled features. Set gamma explicitly to 'auto' or 'scale' to avoid this warning.\n",
      "  \"avoid this warning.\", FutureWarning)\n",
      "C:\\Users\\admin\\Anaconda3\\lib\\site-packages\\sklearn\\svm\\base.py:196: FutureWarning: The default value of gamma will change from 'auto' to 'scale' in version 0.22 to account better for unscaled features. Set gamma explicitly to 'auto' or 'scale' to avoid this warning.\n",
      "  \"avoid this warning.\", FutureWarning)\n",
      "C:\\Users\\admin\\Anaconda3\\lib\\site-packages\\sklearn\\svm\\base.py:196: FutureWarning: The default value of gamma will change from 'auto' to 'scale' in version 0.22 to account better for unscaled features. Set gamma explicitly to 'auto' or 'scale' to avoid this warning.\n",
      "  \"avoid this warning.\", FutureWarning)\n",
      "C:\\Users\\admin\\Anaconda3\\lib\\site-packages\\sklearn\\svm\\base.py:196: FutureWarning: The default value of gamma will change from 'auto' to 'scale' in version 0.22 to account better for unscaled features. Set gamma explicitly to 'auto' or 'scale' to avoid this warning.\n",
      "  \"avoid this warning.\", FutureWarning)\n",
      "C:\\Users\\admin\\Anaconda3\\lib\\site-packages\\sklearn\\svm\\base.py:196: FutureWarning: The default value of gamma will change from 'auto' to 'scale' in version 0.22 to account better for unscaled features. Set gamma explicitly to 'auto' or 'scale' to avoid this warning.\n",
      "  \"avoid this warning.\", FutureWarning)\n"
     ]
    },
    {
     "name": "stdout",
     "output_type": "stream",
     "text": [
      "Average training accuracy: 0.8518933780755147\n",
      "Average testing accuracy: 0.7269673987983848\n",
      "\n",
      "C = 0.8\n"
     ]
    },
    {
     "name": "stderr",
     "output_type": "stream",
     "text": [
      "C:\\Users\\admin\\Anaconda3\\lib\\site-packages\\sklearn\\svm\\base.py:196: FutureWarning: The default value of gamma will change from 'auto' to 'scale' in version 0.22 to account better for unscaled features. Set gamma explicitly to 'auto' or 'scale' to avoid this warning.\n",
      "  \"avoid this warning.\", FutureWarning)\n",
      "C:\\Users\\admin\\Anaconda3\\lib\\site-packages\\sklearn\\svm\\base.py:196: FutureWarning: The default value of gamma will change from 'auto' to 'scale' in version 0.22 to account better for unscaled features. Set gamma explicitly to 'auto' or 'scale' to avoid this warning.\n",
      "  \"avoid this warning.\", FutureWarning)\n",
      "C:\\Users\\admin\\Anaconda3\\lib\\site-packages\\sklearn\\svm\\base.py:196: FutureWarning: The default value of gamma will change from 'auto' to 'scale' in version 0.22 to account better for unscaled features. Set gamma explicitly to 'auto' or 'scale' to avoid this warning.\n",
      "  \"avoid this warning.\", FutureWarning)\n",
      "C:\\Users\\admin\\Anaconda3\\lib\\site-packages\\sklearn\\svm\\base.py:196: FutureWarning: The default value of gamma will change from 'auto' to 'scale' in version 0.22 to account better for unscaled features. Set gamma explicitly to 'auto' or 'scale' to avoid this warning.\n",
      "  \"avoid this warning.\", FutureWarning)\n",
      "C:\\Users\\admin\\Anaconda3\\lib\\site-packages\\sklearn\\svm\\base.py:196: FutureWarning: The default value of gamma will change from 'auto' to 'scale' in version 0.22 to account better for unscaled features. Set gamma explicitly to 'auto' or 'scale' to avoid this warning.\n",
      "  \"avoid this warning.\", FutureWarning)\n",
      "C:\\Users\\admin\\Anaconda3\\lib\\site-packages\\sklearn\\svm\\base.py:196: FutureWarning: The default value of gamma will change from 'auto' to 'scale' in version 0.22 to account better for unscaled features. Set gamma explicitly to 'auto' or 'scale' to avoid this warning.\n",
      "  \"avoid this warning.\", FutureWarning)\n",
      "C:\\Users\\admin\\Anaconda3\\lib\\site-packages\\sklearn\\svm\\base.py:196: FutureWarning: The default value of gamma will change from 'auto' to 'scale' in version 0.22 to account better for unscaled features. Set gamma explicitly to 'auto' or 'scale' to avoid this warning.\n",
      "  \"avoid this warning.\", FutureWarning)\n",
      "C:\\Users\\admin\\Anaconda3\\lib\\site-packages\\sklearn\\svm\\base.py:196: FutureWarning: The default value of gamma will change from 'auto' to 'scale' in version 0.22 to account better for unscaled features. Set gamma explicitly to 'auto' or 'scale' to avoid this warning.\n",
      "  \"avoid this warning.\", FutureWarning)\n",
      "C:\\Users\\admin\\Anaconda3\\lib\\site-packages\\sklearn\\svm\\base.py:196: FutureWarning: The default value of gamma will change from 'auto' to 'scale' in version 0.22 to account better for unscaled features. Set gamma explicitly to 'auto' or 'scale' to avoid this warning.\n",
      "  \"avoid this warning.\", FutureWarning)\n",
      "C:\\Users\\admin\\Anaconda3\\lib\\site-packages\\sklearn\\svm\\base.py:196: FutureWarning: The default value of gamma will change from 'auto' to 'scale' in version 0.22 to account better for unscaled features. Set gamma explicitly to 'auto' or 'scale' to avoid this warning.\n",
      "  \"avoid this warning.\", FutureWarning)\n",
      "C:\\Users\\admin\\Anaconda3\\lib\\site-packages\\sklearn\\svm\\base.py:196: FutureWarning: The default value of gamma will change from 'auto' to 'scale' in version 0.22 to account better for unscaled features. Set gamma explicitly to 'auto' or 'scale' to avoid this warning.\n",
      "  \"avoid this warning.\", FutureWarning)\n",
      "C:\\Users\\admin\\Anaconda3\\lib\\site-packages\\sklearn\\svm\\base.py:196: FutureWarning: The default value of gamma will change from 'auto' to 'scale' in version 0.22 to account better for unscaled features. Set gamma explicitly to 'auto' or 'scale' to avoid this warning.\n",
      "  \"avoid this warning.\", FutureWarning)\n",
      "C:\\Users\\admin\\Anaconda3\\lib\\site-packages\\sklearn\\svm\\base.py:196: FutureWarning: The default value of gamma will change from 'auto' to 'scale' in version 0.22 to account better for unscaled features. Set gamma explicitly to 'auto' or 'scale' to avoid this warning.\n",
      "  \"avoid this warning.\", FutureWarning)\n",
      "C:\\Users\\admin\\Anaconda3\\lib\\site-packages\\sklearn\\svm\\base.py:196: FutureWarning: The default value of gamma will change from 'auto' to 'scale' in version 0.22 to account better for unscaled features. Set gamma explicitly to 'auto' or 'scale' to avoid this warning.\n",
      "  \"avoid this warning.\", FutureWarning)\n"
     ]
    },
    {
     "name": "stdout",
     "output_type": "stream",
     "text": [
      "Average training accuracy: 0.8571467061834838\n",
      "Average testing accuracy: 0.7311730522998128\n",
      "\n",
      "C = 0.9\n"
     ]
    },
    {
     "name": "stderr",
     "output_type": "stream",
     "text": [
      "C:\\Users\\admin\\Anaconda3\\lib\\site-packages\\sklearn\\svm\\base.py:196: FutureWarning: The default value of gamma will change from 'auto' to 'scale' in version 0.22 to account better for unscaled features. Set gamma explicitly to 'auto' or 'scale' to avoid this warning.\n",
      "  \"avoid this warning.\", FutureWarning)\n",
      "C:\\Users\\admin\\Anaconda3\\lib\\site-packages\\sklearn\\svm\\base.py:196: FutureWarning: The default value of gamma will change from 'auto' to 'scale' in version 0.22 to account better for unscaled features. Set gamma explicitly to 'auto' or 'scale' to avoid this warning.\n",
      "  \"avoid this warning.\", FutureWarning)\n",
      "C:\\Users\\admin\\Anaconda3\\lib\\site-packages\\sklearn\\svm\\base.py:196: FutureWarning: The default value of gamma will change from 'auto' to 'scale' in version 0.22 to account better for unscaled features. Set gamma explicitly to 'auto' or 'scale' to avoid this warning.\n",
      "  \"avoid this warning.\", FutureWarning)\n",
      "C:\\Users\\admin\\Anaconda3\\lib\\site-packages\\sklearn\\svm\\base.py:196: FutureWarning: The default value of gamma will change from 'auto' to 'scale' in version 0.22 to account better for unscaled features. Set gamma explicitly to 'auto' or 'scale' to avoid this warning.\n",
      "  \"avoid this warning.\", FutureWarning)\n",
      "C:\\Users\\admin\\Anaconda3\\lib\\site-packages\\sklearn\\svm\\base.py:196: FutureWarning: The default value of gamma will change from 'auto' to 'scale' in version 0.22 to account better for unscaled features. Set gamma explicitly to 'auto' or 'scale' to avoid this warning.\n",
      "  \"avoid this warning.\", FutureWarning)\n",
      "C:\\Users\\admin\\Anaconda3\\lib\\site-packages\\sklearn\\svm\\base.py:196: FutureWarning: The default value of gamma will change from 'auto' to 'scale' in version 0.22 to account better for unscaled features. Set gamma explicitly to 'auto' or 'scale' to avoid this warning.\n",
      "  \"avoid this warning.\", FutureWarning)\n",
      "C:\\Users\\admin\\Anaconda3\\lib\\site-packages\\sklearn\\svm\\base.py:196: FutureWarning: The default value of gamma will change from 'auto' to 'scale' in version 0.22 to account better for unscaled features. Set gamma explicitly to 'auto' or 'scale' to avoid this warning.\n",
      "  \"avoid this warning.\", FutureWarning)\n",
      "C:\\Users\\admin\\Anaconda3\\lib\\site-packages\\sklearn\\svm\\base.py:196: FutureWarning: The default value of gamma will change from 'auto' to 'scale' in version 0.22 to account better for unscaled features. Set gamma explicitly to 'auto' or 'scale' to avoid this warning.\n",
      "  \"avoid this warning.\", FutureWarning)\n",
      "C:\\Users\\admin\\Anaconda3\\lib\\site-packages\\sklearn\\svm\\base.py:196: FutureWarning: The default value of gamma will change from 'auto' to 'scale' in version 0.22 to account better for unscaled features. Set gamma explicitly to 'auto' or 'scale' to avoid this warning.\n",
      "  \"avoid this warning.\", FutureWarning)\n"
     ]
    },
    {
     "name": "stdout",
     "output_type": "stream",
     "text": [
      "Average training accuracy: 0.8606474961115943\n",
      "Average testing accuracy: 0.7395646606914212\n",
      "\n",
      "C = 1.0\n"
     ]
    },
    {
     "name": "stderr",
     "output_type": "stream",
     "text": [
      "C:\\Users\\admin\\Anaconda3\\lib\\site-packages\\sklearn\\svm\\base.py:196: FutureWarning: The default value of gamma will change from 'auto' to 'scale' in version 0.22 to account better for unscaled features. Set gamma explicitly to 'auto' or 'scale' to avoid this warning.\n",
      "  \"avoid this warning.\", FutureWarning)\n",
      "C:\\Users\\admin\\Anaconda3\\lib\\site-packages\\sklearn\\svm\\base.py:196: FutureWarning: The default value of gamma will change from 'auto' to 'scale' in version 0.22 to account better for unscaled features. Set gamma explicitly to 'auto' or 'scale' to avoid this warning.\n",
      "  \"avoid this warning.\", FutureWarning)\n",
      "C:\\Users\\admin\\Anaconda3\\lib\\site-packages\\sklearn\\svm\\base.py:196: FutureWarning: The default value of gamma will change from 'auto' to 'scale' in version 0.22 to account better for unscaled features. Set gamma explicitly to 'auto' or 'scale' to avoid this warning.\n",
      "  \"avoid this warning.\", FutureWarning)\n",
      "C:\\Users\\admin\\Anaconda3\\lib\\site-packages\\sklearn\\svm\\base.py:196: FutureWarning: The default value of gamma will change from 'auto' to 'scale' in version 0.22 to account better for unscaled features. Set gamma explicitly to 'auto' or 'scale' to avoid this warning.\n",
      "  \"avoid this warning.\", FutureWarning)\n",
      "C:\\Users\\admin\\Anaconda3\\lib\\site-packages\\sklearn\\svm\\base.py:196: FutureWarning: The default value of gamma will change from 'auto' to 'scale' in version 0.22 to account better for unscaled features. Set gamma explicitly to 'auto' or 'scale' to avoid this warning.\n",
      "  \"avoid this warning.\", FutureWarning)\n"
     ]
    },
    {
     "name": "stdout",
     "output_type": "stream",
     "text": [
      "Average training accuracy: 0.8634483729930315\n",
      "Average testing accuracy: 0.7381759085984438\n",
      "\n"
     ]
    },
    {
     "name": "stderr",
     "output_type": "stream",
     "text": [
      "C:\\Users\\admin\\Anaconda3\\lib\\site-packages\\sklearn\\svm\\base.py:196: FutureWarning: The default value of gamma will change from 'auto' to 'scale' in version 0.22 to account better for unscaled features. Set gamma explicitly to 'auto' or 'scale' to avoid this warning.\n",
      "  \"avoid this warning.\", FutureWarning)\n",
      "C:\\Users\\admin\\Anaconda3\\lib\\site-packages\\sklearn\\svm\\base.py:196: FutureWarning: The default value of gamma will change from 'auto' to 'scale' in version 0.22 to account better for unscaled features. Set gamma explicitly to 'auto' or 'scale' to avoid this warning.\n",
      "  \"avoid this warning.\", FutureWarning)\n"
     ]
    }
   ],
   "source": [
    "# vary aboyt penalty parameter\n",
    "\n",
    "c_range = np.arange(0.1, 1.1, 0.1)\n",
    "train_result = []\n",
    "test_result = []\n",
    "\n",
    "for C in c_range:\n",
    "    svc = SVC(C=C)\n",
    "    print('C =', C)\n",
    "    train_result.append(calc_acc(svc)[0])\n",
    "    test_result.append(calc_acc(svc, True)[1])"
   ]
  },
  {
   "cell_type": "code",
   "execution_count": 22,
   "metadata": {},
   "outputs": [],
   "source": [
    "# the function used to plot accuracies\n",
    "\n",
    "def plot_acc(x_lb, x, y1=train_result, y2=test_result):\n",
    "    line_1 = plt.plot(x, y1, label=\"training accuracy\")\n",
    "    line_2 = plt.plot(x, y2, label=\"testing accuracy\")\n",
    "    plt.xlabel(x_lb)\n",
    "    plt.ylabel('accuracy')\n",
    "    plt.legend()\n",
    "    plt.show()"
   ]
  },
  {
   "cell_type": "code",
   "execution_count": 23,
   "metadata": {},
   "outputs": [
    {
     "data": {
      "image/png": "[encoded data removed]",
      "text/plain": [
       "<Figure size 432x288 with 1 Axes>"
      ]
     },
     "metadata": {
      "needs_background": "light"
     },
     "output_type": "display_data"
    }
   ],
   "source": [
    "# plot accuracies versus penalty parameter\n",
    "plot_acc(x=c_range, x_lb='C penalty')"
   ]
  },
  {
   "cell_type": "markdown",
   "metadata": {},
   "source": [
    "<p style='color: red'>high C parameter(hard margin): easily overfitting</p>"
   ]
  },
  {
   "cell_type": "code",
   "execution_count": 24,
   "metadata": {},
   "outputs": [],
   "source": [
    "# vary about kernel type\n",
    "\n",
    "# kernels = ['rbf', 'linear', 'poly', 'sigmoid']\n",
    "# train_result = []\n",
    "# test_result = []\n",
    "\n",
    "# for k in kernels:\n",
    "#     svc = SVC(kernel=k)\n",
    "#     print('C =', C)\n",
    "#     train_result.append(calc_acc(svc)[0])\n",
    "#     test_result.append(calc_acc(svc, True)[1])"
   ]
  },
  {
   "cell_type": "markdown",
   "metadata": {
    "collapsed": true
   },
   "source": [
    "<p style='color: red'>High cost while using non-linear kernel function on large smaple sets (> 10K)</p>"
   ]
  },
  {
   "cell_type": "code",
   "execution_count": 25,
   "metadata": {},
   "outputs": [],
   "source": [
    "# plot accuracies versus kernel type\n",
    "# plot_acc(x=kernels, x_lb='kernel type')"
   ]
  },
  {
   "cell_type": "markdown",
   "metadata": {},
   "source": [
    "### 5.3 Decision numberTree 分析"
   ]
  },
  {
   "cell_type": "code",
   "execution_count": 26,
   "metadata": {},
   "outputs": [
    {
     "name": "stdout",
     "output_type": "stream",
     "text": [
      "training accuracy: 0.78011\n"
     ]
    }
   ],
   "source": [
    "# Decision numberTree\n",
    "# max_depth = 1   \n",
    "decision_tree = DecisionTreeClassifier(max_depth=1)  \n",
    "decision_tree.fit(X_train, Y_train)\n",
    "Y_pred = decision_tree.predict(X_test)\n",
    "acc_decision_tree = decision_tree.score(X_train, Y_train)\n",
    "print('training accuracy: %.5f' % acc_decision_tree)\n",
    "\n",
    "submission = pd.DataFrame({\n",
    "        \"PassengerId\": test_df[\"PassengerId\"],\n",
    "        \"Survived\": Y_pred\n",
    "    })\n",
    "submission.to_csv('./submission_decision_tree.csv', index=False)"
   ]
  },
  {
   "cell_type": "markdown",
   "metadata": {},
   "source": [
    "<font color='red'>這是 max_depth = 1 的 train accuracy 的情況"
   ]
  },
  {
   "cell_type": "code",
   "execution_count": 27,
   "metadata": {},
   "outputs": [],
   "source": [
    "def out_Decision(Max_depth):\n",
    "    \n",
    "    decision_tree = DecisionTreeClassifier(max_depth=Max_depth)  # max_depth = 22 \n",
    "    decision_tree.fit(X_train, Y_train)\n",
    "    Y_pred = decision_tree.predict(X_test)\n",
    "    acc_decision_tree = decision_tree.score(X_train, Y_train)\n",
    "    return acc_decision_tree\n",
    "    # print('training accuracy: %.5f' % acc_decision_tree)"
   ]
  },
  {
   "cell_type": "code",
   "execution_count": 28,
   "metadata": {},
   "outputs": [],
   "source": [
    "# Max_depth = 1\n",
    "# 測試max_depth = 多少時 training accuracy 最好\n",
    "X = []\n",
    "Y = []\n",
    "for Max_depth in range(1,250+1):\n",
    "    #print(Max_depth)\n",
    "    #Max_depth=Max_depth+1\n",
    "    \n",
    "    #plot_acc_decision_tree = acc_decision_tree\n",
    "    X.append(Max_depth)\n",
    "    Y.append(out_Decision(Max_depth))"
   ]
  },
  {
   "cell_type": "code",
   "execution_count": 29,
   "metadata": {
    "scrolled": false
   },
   "outputs": [
    {
     "data": {
      "image/png": "[encoded data removed]",
      "text/plain": [
       "<Figure size 432x288 with 1 Axes>"
      ]
     },
     "metadata": {
      "needs_background": "light"
     },
     "output_type": "display_data"
    }
   ],
   "source": [
    "plt.plot(X,Y, label=\"training accuracy\")\n",
    "plt.xlabel('max_depth')\n",
    "plt.ylabel('accuracy')\n",
    "plt.legend()\n",
    "plt.show()"
   ]
  },
  {
   "cell_type": "markdown",
   "metadata": {},
   "source": [
    "<font color='red'>大約在max_depth = 22以上的時候有最佳的 training accuracy"
   ]
  },
  {
   "cell_type": "code",
   "execution_count": 30,
   "metadata": {},
   "outputs": [
    {
     "data": {
      "text/plain": [
       "Index(['Survived', 'Pclass', 'Sex', 'Age', 'SibSp', 'Parch', 'Fare',\n",
       "       'Embarked'],\n",
       "      dtype='object')"
      ]
     },
     "execution_count": 30,
     "metadata": {},
     "output_type": "execute_result"
    }
   ],
   "source": [
    "# 確認類別數量\n",
    "train_df.columns"
   ]
  },
  {
   "cell_type": "code",
   "execution_count": 31,
   "metadata": {},
   "outputs": [
    {
     "name": "stdout",
     "output_type": "stream",
     "text": [
      "[[0.94045534 0.95271454 0.94921191 0.94395797 0.9493007 ]\n",
      " [0.78321678 0.77622378 0.76223776 0.7972028  0.80985915]] \n",
      "\n",
      "Average training accuracy:  0.9471280908233621 \n",
      "Average testing accuracy:  0.7857480547621393\n"
     ]
    }
   ],
   "source": [
    "#max_depth = 22 \n",
    "acc_dt = np.zeros((2,5))\n",
    "i = 0\n",
    "for train_index, test_index in kfold.split(train_df):\n",
    "    #print(\"TRAIN:\", train_index, \"\\nTEST:\", test_index)\n",
    "    kfold_X_train = train_df.iloc[train_index].drop(\"Survived\", axis=1)\n",
    "    kfold_Y_train = train_df.iloc[train_index][\"Survived\"]\n",
    "    kfold_X_test  = train_df.iloc[test_index].drop(\"Survived\", axis=1)\n",
    "    kfold_Y_test  = train_df.iloc[test_index][\"Survived\"]\n",
    "    \n",
    "    decision_tree = DecisionTreeClassifier(max_depth=22)  \n",
    "    decision_tree.fit(kfold_X_train, kfold_Y_train)\n",
    "    acc_train = decision_tree.score(kfold_X_train, kfold_Y_train)\n",
    "    acc_test = decision_tree.score(kfold_X_test, kfold_Y_test)\n",
    "    acc_dt[0,i] = acc_train\n",
    "    acc_dt[1,i] = acc_test\n",
    "    i+=1\n",
    "print(acc_dt,'\\n')\n",
    "print('Average training accuracy: ',np.mean(acc_dt[0,:]),'\\nAverage testing accuracy: ',np.mean(acc_dt[1,:]))"
   ]
  },
  {
   "cell_type": "markdown",
   "metadata": {},
   "source": [
    "<font color='red'>train_index 就是拿來訓練的<br />\n",
    "    test_index 就是拿來測試 **testing accuracy** 的<br />\n",
    "    觀察上面的輸出結果可以發現 train_index 每次都會只有 1/5 的資料<br />\n",
    "    而 test_index 就是缺少的那 1/5 的資料\n",
    "</font>"
   ]
  },
  {
   "cell_type": "markdown",
   "metadata": {},
   "source": [
    "<font color='red'>由上面的分析結果可知 training accuracy 越高不一定越好<br />\n",
    "    Average training accuracy 0.947 雖然很高<br />\n",
    "    Average testing accuracy  0.794 卻很低<br />\n",
    "    這就是 **Overfitting** 的例子\n",
    "</font>"
   ]
  },
  {
   "cell_type": "code",
   "execution_count": 32,
   "metadata": {},
   "outputs": [
    {
     "name": "stdout",
     "output_type": "stream",
     "text": [
      "training accuracy:  0.7801134067333717 \n",
      "testing accuracy:  0.7801339505564858\n",
      "training accuracy:  0.7913175266064932 \n",
      "testing accuracy:  0.7913326110509209\n",
      "training accuracy:  0.8074259365853061 \n",
      "testing accuracy:  0.774578942184576\n",
      "training accuracy:  0.8315836527745459 \n",
      "testing accuracy:  0.7927410617551462\n",
      "training accuracy:  0.8518927657281422 \n",
      "testing accuracy:  0.7913424603565449\n",
      "training accuracy:  0.8700978531101123 \n",
      "testing accuracy:  0.7801241012508617\n",
      "training accuracy:  0.8816503986381393 \n",
      "testing accuracy:  0.7815128533438392\n",
      "training accuracy:  0.8928539061638887 \n",
      "testing accuracy:  0.7815128533438392\n",
      "training accuracy:  0.9051082017807062 \n",
      "testing accuracy:  0.7857283561508914\n",
      "training accuracy:  0.9145628452108312 \n",
      "testing accuracy:  0.7899241603466957\n",
      "training accuracy:  0.9240162639462115 \n",
      "testing accuracy:  0.7885157096424702\n",
      "training accuracy:  0.9296174053617137 \n",
      "testing accuracy:  0.7800945533339899\n",
      "training accuracy:  0.9366214346074241 \n",
      "testing accuracy:  0.7885255589480942\n",
      "training accuracy:  0.9390726611392111 \n",
      "testing accuracy:  0.7857086575396435\n",
      "training accuracy:  0.9432752011561117 \n",
      "testing accuracy:  0.7997143701369054\n",
      "training accuracy:  0.94432598924718 \n",
      "testing accuracy:  0.8011228208411307\n",
      "training accuracy:  0.94432598924718 \n",
      "testing accuracy:  0.7941199645424998\n",
      "training accuracy:  0.9446762519442029 \n",
      "testing accuracy:  0.7927213631438984\n",
      "training accuracy:  0.9457270400352712 \n",
      "testing accuracy:  0.7899438589579435\n",
      "training accuracy:  0.9467778281263394 \n",
      "testing accuracy:  0.7843297547522899\n",
      "training accuracy:  0.9467778281263394 \n",
      "testing accuracy:  0.784319905446666\n",
      "training accuracy:  0.9471280908233621 \n",
      "testing accuracy:  0.7787156505466364\n"
     ]
    }
   ],
   "source": [
    "D_uniform_average_training = []\n",
    "D_uniform_average_testing = []\n",
    "\n",
    "\n",
    "for Max_depth in range(1,22+1): #0~21 -> 1~22 \n",
    "    acc_dt = np.zeros((2,5))\n",
    "    i = 0\n",
    "    for train_index, test_index in kfold.split(train_df):\n",
    "        #print(\"TRAIN:\", train_index, \"\\nTEST:\", test_index)\n",
    "        kfold_X_train = train_df.iloc[train_index].drop(\"Survived\", axis=1)\n",
    "        kfold_Y_train = train_df.iloc[train_index][\"Survived\"]\n",
    "        kfold_X_test  = train_df.iloc[test_index].drop(\"Survived\", axis=1)\n",
    "        kfold_Y_test  = train_df.iloc[test_index][\"Survived\"]\n",
    "    \n",
    "        decision_tree = DecisionTreeClassifier(max_depth=Max_depth)  \n",
    "        decision_tree.fit(kfold_X_train, kfold_Y_train)\n",
    "        acc_train = decision_tree.score(kfold_X_train, kfold_Y_train)\n",
    "        acc_test = decision_tree.score(kfold_X_test, kfold_Y_test)\n",
    "        acc_dt[0,i] = acc_train\n",
    "        acc_dt[1,i] = acc_test\n",
    "        i+=1\n",
    "    #print(acc_dt,'\\n')\n",
    "    print('training accuracy: ',np.mean(acc_dt[0,:]),'\\ntesting accuracy: ',np.mean(acc_dt[1,:]))\n",
    "    D_uniform_average_training.append(np.mean(acc_dt[0,:]))\n",
    "    D_uniform_average_testing.append(np.mean(acc_dt[1,:]))"
   ]
  },
  {
   "cell_type": "code",
   "execution_count": 33,
   "metadata": {},
   "outputs": [
    {
     "data": {
      "image/png": "[encoded data removed]",
      "text/plain": [
       "<Figure size 432x288 with 1 Axes>"
      ]
     },
     "metadata": {
      "needs_background": "light"
     },
     "output_type": "display_data"
    }
   ],
   "source": [
    "line1 = plt.plot(D_uniform_average_training, label=\"training accuracy\")\n",
    "line1 = plt.plot(D_uniform_average_testing, label=\"testing accuracy\")\n",
    "plt.xlabel('max_depth')\n",
    "plt.ylabel('accuracy')\n",
    "plt.legend()\n",
    "plt.show()"
   ]
  },
  {
   "cell_type": "markdown",
   "metadata": {},
   "source": [
    "<font color='red'> 增加max_depth，training accuracy會增加，但是testing accuracy則沒有明顯的增加趨勢"
   ]
  },
  {
   "cell_type": "markdown",
   "metadata": {},
   "source": [
    "## 7.knn 分析"
   ]
  },
  {
   "cell_type": "markdown",
   "metadata": {},
   "source": [
    "## knn leaf_size 分析"
   ]
  },
  {
   "cell_type": "code",
   "execution_count": 34,
   "metadata": {},
   "outputs": [
    {
     "name": "stdout",
     "output_type": "stream",
     "text": [
      "n_neighbors =  1, training accuracy: 0.86555\n",
      "n_neighbors =  2, training accuracy: 0.85154\n",
      "n_neighbors =  3, training accuracy: 0.86555\n",
      "n_neighbors =  4, training accuracy: 0.86555\n",
      "n_neighbors =  5, training accuracy: 0.86555\n",
      "n_neighbors =  6, training accuracy: 0.86695\n",
      "n_neighbors =  7, training accuracy: 0.86695\n",
      "n_neighbors =  8, training accuracy: 0.86695\n",
      "n_neighbors =  9, training accuracy: 0.86695\n",
      "n_neighbors = 10, training accuracy: 0.86695\n",
      "n_neighbors = 11, training accuracy: 0.86695\n",
      "n_neighbors = 12, training accuracy: 0.87115\n",
      "n_neighbors = 13, training accuracy: 0.87115\n",
      "n_neighbors = 14, training accuracy: 0.87115\n",
      "n_neighbors = 15, training accuracy: 0.87115\n",
      "n_neighbors = 16, training accuracy: 0.87115\n",
      "n_neighbors = 17, training accuracy: 0.87115\n",
      "n_neighbors = 18, training accuracy: 0.87115\n",
      "n_neighbors = 19, training accuracy: 0.87115\n",
      "n_neighbors = 20, training accuracy: 0.87115\n",
      "n_neighbors = 21, training accuracy: 0.87115\n",
      "n_neighbors = 22, training accuracy: 0.87115\n",
      "n_neighbors = 23, training accuracy: 0.87115\n",
      "n_neighbors = 24, training accuracy: 0.87115\n",
      "n_neighbors = 25, training accuracy: 0.87115\n",
      "n_neighbors = 26, training accuracy: 0.87115\n",
      "n_neighbors = 27, training accuracy: 0.87115\n",
      "n_neighbors = 28, training accuracy: 0.87115\n",
      "n_neighbors = 29, training accuracy: 0.87115\n",
      "n_neighbors = 30, training accuracy: 0.87115\n",
      "n_neighbors = 31, training accuracy: 0.87115\n",
      "n_neighbors = 32, training accuracy: 0.87115\n",
      "n_neighbors = 33, training accuracy: 0.87115\n",
      "n_neighbors = 34, training accuracy: 0.87115\n",
      "n_neighbors = 35, training accuracy: 0.87115\n",
      "n_neighbors = 36, training accuracy: 0.87115\n",
      "n_neighbors = 37, training accuracy: 0.87115\n",
      "n_neighbors = 38, training accuracy: 0.87115\n",
      "n_neighbors = 39, training accuracy: 0.87115\n",
      "n_neighbors = 40, training accuracy: 0.87115\n",
      "n_neighbors = 41, training accuracy: 0.87115\n",
      "n_neighbors = 42, training accuracy: 0.87115\n",
      "n_neighbors = 43, training accuracy: 0.87115\n",
      "n_neighbors = 44, training accuracy: 0.87115\n",
      "n_neighbors = 45, training accuracy: 0.87115\n",
      "n_neighbors = 46, training accuracy: 0.87115\n",
      "n_neighbors = 47, training accuracy: 0.87115\n",
      "n_neighbors = 48, training accuracy: 0.87115\n",
      "n_neighbors = 49, training accuracy: 0.87115\n",
      "n_neighbors = 50, training accuracy: 0.87115\n",
      "n_neighbors = 51, training accuracy: 0.87115\n",
      "n_neighbors = 52, training accuracy: 0.87115\n",
      "n_neighbors = 53, training accuracy: 0.87115\n",
      "n_neighbors = 54, training accuracy: 0.87115\n",
      "n_neighbors = 55, training accuracy: 0.87115\n",
      "n_neighbors = 56, training accuracy: 0.87115\n",
      "n_neighbors = 57, training accuracy: 0.87115\n",
      "n_neighbors = 58, training accuracy: 0.87115\n",
      "n_neighbors = 59, training accuracy: 0.87115\n",
      "n_neighbors = 60, training accuracy: 0.87115\n",
      "n_neighbors = 61, training accuracy: 0.87115\n",
      "n_neighbors = 62, training accuracy: 0.87115\n",
      "n_neighbors = 63, training accuracy: 0.87115\n",
      "n_neighbors = 64, training accuracy: 0.87115\n",
      "n_neighbors = 65, training accuracy: 0.87115\n",
      "n_neighbors = 66, training accuracy: 0.87115\n",
      "n_neighbors = 67, training accuracy: 0.87115\n",
      "n_neighbors = 68, training accuracy: 0.87115\n",
      "n_neighbors = 69, training accuracy: 0.87115\n",
      "n_neighbors = 70, training accuracy: 0.87115\n",
      "n_neighbors = 71, training accuracy: 0.87115\n",
      "n_neighbors = 72, training accuracy: 0.87115\n",
      "n_neighbors = 73, training accuracy: 0.87115\n",
      "n_neighbors = 74, training accuracy: 0.87115\n",
      "n_neighbors = 75, training accuracy: 0.87115\n",
      "n_neighbors = 76, training accuracy: 0.87115\n",
      "n_neighbors = 77, training accuracy: 0.87115\n",
      "n_neighbors = 78, training accuracy: 0.87115\n",
      "n_neighbors = 79, training accuracy: 0.87115\n",
      "n_neighbors = 80, training accuracy: 0.87115\n",
      "n_neighbors = 81, training accuracy: 0.87115\n",
      "n_neighbors = 82, training accuracy: 0.87115\n",
      "n_neighbors = 83, training accuracy: 0.87115\n",
      "n_neighbors = 84, training accuracy: 0.87115\n",
      "n_neighbors = 85, training accuracy: 0.87115\n",
      "n_neighbors = 86, training accuracy: 0.87115\n",
      "n_neighbors = 87, training accuracy: 0.87115\n",
      "n_neighbors = 88, training accuracy: 0.87115\n",
      "n_neighbors = 89, training accuracy: 0.87115\n",
      "n_neighbors = 90, training accuracy: 0.86975\n",
      "n_neighbors = 91, training accuracy: 0.86975\n",
      "n_neighbors = 92, training accuracy: 0.86975\n",
      "n_neighbors = 93, training accuracy: 0.86975\n",
      "n_neighbors = 94, training accuracy: 0.86975\n",
      "n_neighbors = 95, training accuracy: 0.86975\n",
      "n_neighbors = 96, training accuracy: 0.86975\n",
      "n_neighbors = 97, training accuracy: 0.86975\n",
      "n_neighbors = 98, training accuracy: 0.86975\n",
      "n_neighbors = 99, training accuracy: 0.86975\n",
      "n_neighbors = 100, training accuracy: 0.86975\n"
     ]
    }
   ],
   "source": [
    "leaf_size_results = []\n",
    "\n",
    "for i in range(100):\n",
    "    knn = KNeighborsClassifier(n_neighbors = 3, leaf_size = (i+1))\n",
    "    knn.fit(X_train, Y_train)\n",
    "    Y_pred = knn.predict(X_test)\n",
    "    acc_knn = knn.score(X_train, Y_train)\n",
    "    print(\"n_neighbors = %2d, training accuracy: %.5f\" %(i+1, acc_knn))\n",
    "    leaf_size_results.append(acc_knn)"
   ]
  },
  {
   "cell_type": "code",
   "execution_count": 35,
   "metadata": {},
   "outputs": [
    {
     "data": {
      "image/png": "[encoded data removed]",
      "text/plain": [
       "<Figure size 432x288 with 1 Axes>"
      ]
     },
     "metadata": {
      "needs_background": "light"
     },
     "output_type": "display_data"
    }
   ],
   "source": [
    "line1 = plt.plot(leaf_size_results, label=\"training accuracy\")\n",
    "plt.xlabel('leaf_size')\n",
    "plt.ylabel('accuracy')\n",
    "plt.legend()\n",
    "plt.show()"
   ]
  },
  {
   "cell_type": "markdown",
   "metadata": {},
   "source": [
    "<font color='red'>這邊單純是測試 leaf_size 對 accuracy 的影響如何<br />\n",
    "    可以發現 leaf_size 在 15 ~ 90 之間的結果都是最好的而且完全相同<br />\n",
    "    所以這邊就先不比較 training 跟 testing 的差異了<br />\n",
    "    只要記得 leaf_size 要選在這一個範圍內會比較好<br />\n",
    "    **後面的實驗 leaf_size 統一使用 30**\n",
    "</font>"
   ]
  },
  {
   "cell_type": "markdown",
   "metadata": {},
   "source": [
    "### weights 使用 uniform\n",
    "***"
   ]
  },
  {
   "cell_type": "code",
   "execution_count": 36,
   "metadata": {},
   "outputs": [
    {
     "name": "stdout",
     "output_type": "stream",
     "text": [
      "n_neighbors =  1, training accuracy: 0.92297\n",
      "n_neighbors =  2, training accuracy: 0.84594\n",
      "n_neighbors =  3, training accuracy: 0.87115\n",
      "n_neighbors =  4, training accuracy: 0.84454\n",
      "n_neighbors =  5, training accuracy: 0.83754\n",
      "n_neighbors =  6, training accuracy: 0.81232\n",
      "n_neighbors =  7, training accuracy: 0.81793\n",
      "n_neighbors =  8, training accuracy: 0.79832\n",
      "n_neighbors =  9, training accuracy: 0.80252\n",
      "n_neighbors = 10, training accuracy: 0.78852\n",
      "n_neighbors = 11, training accuracy: 0.79272\n",
      "n_neighbors = 12, training accuracy: 0.77591\n",
      "n_neighbors = 13, training accuracy: 0.76611\n",
      "n_neighbors = 14, training accuracy: 0.76331\n",
      "n_neighbors = 15, training accuracy: 0.76331\n",
      "n_neighbors = 16, training accuracy: 0.75350\n",
      "n_neighbors = 17, training accuracy: 0.75210\n",
      "n_neighbors = 18, training accuracy: 0.74650\n",
      "n_neighbors = 19, training accuracy: 0.75070\n",
      "n_neighbors = 20, training accuracy: 0.74230\n"
     ]
    }
   ],
   "source": [
    "uniform_results = []\n",
    "\n",
    "for i in range(20):\n",
    "    knn = KNeighborsClassifier(n_neighbors = i+1)\n",
    "    knn.fit(X_train, Y_train)\n",
    "    # Y_pred = knn.predict(X_test)\n",
    "    acc_knn = knn.score(X_train, Y_train)\n",
    "    print(\"n_neighbors = %2d, training accuracy: %.5f\" %(i+1, acc_knn))\n",
    "    uniform_results.append(acc_knn)"
   ]
  },
  {
   "cell_type": "code",
   "execution_count": 37,
   "metadata": {},
   "outputs": [
    {
     "data": {
      "image/png": "[encoded data removed]",
      "text/plain": [
       "<Figure size 432x288 with 1 Axes>"
      ]
     },
     "metadata": {
      "needs_background": "light"
     },
     "output_type": "display_data"
    }
   ],
   "source": [
    "line1 = plt.plot(uniform_results, label=\"training accuracy\")\n",
    "plt.xlabel('n_neighbors')\n",
    "plt.ylabel('accuracy')\n",
    "plt.legend()\n",
    "plt.show()"
   ]
  },
  {
   "cell_type": "markdown",
   "metadata": {},
   "source": [
    "<font color='red'>可以發現當 n_neighbors 增加的時候 accuracy 是往下掉的<br />\n",
    "    接下來分析 **testing accuracy** 的部分\n",
    "</font>"
   ]
  },
  {
   "cell_type": "code",
   "execution_count": 38,
   "metadata": {},
   "outputs": [
    {
     "name": "stdout",
     "output_type": "stream",
     "text": [
      "Average training accuracy:  0.9247204634244914  Average testing accuracy:  0.7143110410716045\n",
      "Average training accuracy:  0.8410376838572985  Average testing accuracy:  0.7059095833743722\n",
      "Average training accuracy:  0.8592476700182481  Average testing accuracy:  0.7268886043533931\n",
      "Average training accuracy:  0.832633828518242  Average testing accuracy:  0.7353097606618733\n",
      "Average training accuracy:  0.8354340930523068  Average testing accuracy:  0.7381463606815719\n",
      "Average training accuracy:  0.8098728766854861  Average testing accuracy:  0.7268984536590171\n",
      "Average training accuracy:  0.8144220053151752  Average testing accuracy:  0.7353196099674972\n",
      "Average training accuracy:  0.8032172730946812  Average testing accuracy:  0.7227223480744608\n",
      "Average training accuracy:  0.8004170085606163  Average testing accuracy:  0.7311238057716932\n",
      "Average training accuracy:  0.783618483093089  Average testing accuracy:  0.7156899438589579\n",
      "Average training accuracy:  0.7766162908894958  Average testing accuracy:  0.7100758396533045\n",
      "Average training accuracy:  0.7671591980698811  Average testing accuracy:  0.6975278242883877\n",
      "Average training accuracy:  0.7643564841463265  Average testing accuracy:  0.6975278242883877\n",
      "Average training accuracy:  0.7549006160214566  Average testing accuracy:  0.691943267999606\n",
      "Average training accuracy:  0.7510520127858131  Average testing accuracy:  0.6989362749926131\n",
      "Average training accuracy:  0.7433480704934295  Average testing accuracy:  0.6933418693982075\n",
      "Average training accuracy:  0.7482511359043758  Average testing accuracy:  0.691962966610854\n",
      "Average training accuracy:  0.7408992933511322  Average testing accuracy:  0.6821235102925244\n",
      "Average training accuracy:  0.7394982425630412  Average testing accuracy:  0.6835516596079977\n",
      "Average training accuracy:  0.7331990251429831  Average testing accuracy:  0.6821530582093963\n"
     ]
    }
   ],
   "source": [
    "# knn testing accuracy 分析\n",
    "\n",
    "uniform_average_training = []\n",
    "uniform_average_testing = []\n",
    "\n",
    "for i in range(20):\n",
    "    acc_dt = np.zeros((2,5))\n",
    "    j = 0\n",
    "    for train_index, test_index in kfold.split(train_df):\n",
    "        kfold_X_train = train_df.iloc[train_index].drop(\"Survived\", axis=1)\n",
    "        kfold_Y_train = train_df.iloc[train_index][\"Survived\"]\n",
    "        kfold_X_test  = train_df.iloc[test_index].drop(\"Survived\", axis=1)\n",
    "        kfold_Y_test  = train_df.iloc[test_index][\"Survived\"]\n",
    "\n",
    "        knn = KNeighborsClassifier(n_neighbors = i+1, leaf_size = 30)\n",
    "        knn.fit(kfold_X_train, kfold_Y_train)\n",
    "        acc_train = knn.score(kfold_X_train, kfold_Y_train)\n",
    "        acc_test = knn.score(kfold_X_test, kfold_Y_test)\n",
    "        acc_dt[0,j] = acc_train\n",
    "        acc_dt[1,j] = acc_test\n",
    "        j+=1\n",
    "    # print(acc_dt,'\\n')\n",
    "    print('Average training accuracy: ',np.mean(acc_dt[0,:]),' Average testing accuracy: ',np.mean(acc_dt[1,:]))\n",
    "    \n",
    "    uniform_average_training.append(np.mean(acc_dt[0,:]))\n",
    "    uniform_average_testing.append(np.mean(acc_dt[1,:]))"
   ]
  },
  {
   "cell_type": "markdown",
   "metadata": {},
   "source": [
    "### weights 使用 uniform 的 training accuracy V.S. testing accuracy (平均值)"
   ]
  },
  {
   "cell_type": "code",
   "execution_count": 39,
   "metadata": {},
   "outputs": [
    {
     "data": {
      "image/png": "[encoded data removed]",
      "text/plain": [
       "<Figure size 432x288 with 1 Axes>"
      ]
     },
     "metadata": {
      "needs_background": "light"
     },
     "output_type": "display_data"
    }
   ],
   "source": [
    "line1 = plt.plot(uniform_average_training, label=\"training accuracy\")\n",
    "line1 = plt.plot(uniform_average_testing, label=\"testing accuracy\")\n",
    "plt.xlabel('n_neighbors')\n",
    "plt.ylabel('accuracy')\n",
    "plt.legend()\n",
    "plt.show()"
   ]
  },
  {
   "cell_type": "markdown",
   "metadata": {},
   "source": [
    "<font color='red'>可以發現最一開始 n_neighbors=1 時的 training accuracy 最高<br />\n",
    "    但是 testing accuracy 並不是最高<br />\n",
    "    這就是因為 Overfitting 的關係\n",
    "</font>"
   ]
  },
  {
   "cell_type": "markdown",
   "metadata": {},
   "source": [
    "### weights 使用 distance\n",
    "***"
   ]
  },
  {
   "cell_type": "code",
   "execution_count": 40,
   "metadata": {},
   "outputs": [
    {
     "name": "stdout",
     "output_type": "stream",
     "text": [
      "n_neighbors =  1, training accuracy: 0.91877\n",
      "n_neighbors =  2, training accuracy: 0.93557\n",
      "n_neighbors =  3, training accuracy: 0.94118\n",
      "n_neighbors =  4, training accuracy: 0.94398\n",
      "n_neighbors =  5, training accuracy: 0.94398\n",
      "n_neighbors =  6, training accuracy: 0.94398\n",
      "n_neighbors =  7, training accuracy: 0.94398\n",
      "n_neighbors =  8, training accuracy: 0.94398\n",
      "n_neighbors =  9, training accuracy: 0.94398\n",
      "n_neighbors = 10, training accuracy: 0.94398\n",
      "n_neighbors = 11, training accuracy: 0.94398\n",
      "n_neighbors = 12, training accuracy: 0.94398\n",
      "n_neighbors = 13, training accuracy: 0.94398\n",
      "n_neighbors = 14, training accuracy: 0.94398\n",
      "n_neighbors = 15, training accuracy: 0.94398\n",
      "n_neighbors = 16, training accuracy: 0.94398\n",
      "n_neighbors = 17, training accuracy: 0.94398\n",
      "n_neighbors = 18, training accuracy: 0.94398\n",
      "n_neighbors = 19, training accuracy: 0.94398\n",
      "n_neighbors = 20, training accuracy: 0.94398\n"
     ]
    }
   ],
   "source": [
    "distance_results = []\n",
    "\n",
    "for i in range(20):\n",
    "    knn = KNeighborsClassifier(n_neighbors = i+1, weights = 'distance', leaf_size = 3)\n",
    "    knn.fit(X_train, Y_train)\n",
    "    Y_pred = knn.predict(X_test)\n",
    "    acc_knn = knn.score(X_train, Y_train)\n",
    "    print(\"n_neighbors = %2d, training accuracy: %.5f\" %(i+1, acc_knn))\n",
    "    distance_results.append(acc_knn)"
   ]
  },
  {
   "cell_type": "code",
   "execution_count": 41,
   "metadata": {},
   "outputs": [
    {
     "data": {
      "image/png": "[encoded data removed]",
      "text/plain": [
       "<Figure size 432x288 with 1 Axes>"
      ]
     },
     "metadata": {
      "needs_background": "light"
     },
     "output_type": "display_data"
    }
   ],
   "source": [
    "line1 = plt.plot(distance_results, label=\"weights = distance\")\n",
    "plt.xlabel('n_neighbors')\n",
    "plt.ylabel('accuracy')\n",
    "plt.legend()\n",
    "plt.show()"
   ]
  },
  {
   "cell_type": "code",
   "execution_count": 42,
   "metadata": {},
   "outputs": [
    {
     "name": "stdout",
     "output_type": "stream",
     "text": [
      "Average training accuracy:  0.9247204634244914  Average testing accuracy:  0.7143110410716045\n",
      "Average training accuracy:  0.9362736212998911  Average testing accuracy:  0.7311139564660691\n",
      "Average training accuracy:  0.9415257247131151  Average testing accuracy:  0.7212941987589876\n",
      "Average training accuracy:  0.9471280908233621  Average testing accuracy:  0.75214222397321\n",
      "Average training accuracy:  0.9471280908233621  Average testing accuracy:  0.7395252634689254\n",
      "Average training accuracy:  0.9471280908233621  Average testing accuracy:  0.7521225253619619\n",
      "Average training accuracy:  0.9471280908233621  Average testing accuracy:  0.7450901211464591\n",
      "Average training accuracy:  0.9471280908233621  Average testing accuracy:  0.7535408253718112\n",
      "Average training accuracy:  0.9471280908233621  Average testing accuracy:  0.7479070225549099\n",
      "Average training accuracy:  0.9471280908233621  Average testing accuracy:  0.7479070225549098\n",
      "Average training accuracy:  0.9471280908233621  Average testing accuracy:  0.7380971141534521\n",
      "Average training accuracy:  0.9471280908233621  Average testing accuracy:  0.7507042253521127\n",
      "Average training accuracy:  0.9471280908233621  Average testing accuracy:  0.7409140155619028\n",
      "Average training accuracy:  0.9471280908233621  Average testing accuracy:  0.7437210676647296\n",
      "Average training accuracy:  0.9471280908233621  Average testing accuracy:  0.7395252634689254\n",
      "Average training accuracy:  0.9471280908233621  Average testing accuracy:  0.7423224662661282\n",
      "Average training accuracy:  0.9471280908233621  Average testing accuracy:  0.7409140155619028\n",
      "Average training accuracy:  0.9471280908233621  Average testing accuracy:  0.7395154141633015\n",
      "Average training accuracy:  0.9471280908233621  Average testing accuracy:  0.7311139564660691\n",
      "Average training accuracy:  0.9471280908233621  Average testing accuracy:  0.7325421057815424\n"
     ]
    }
   ],
   "source": [
    "# knn testing accuracy 分析\n",
    "\n",
    "distance_average_training = []\n",
    "distance_average_testing = []\n",
    "\n",
    "for i in range(20):\n",
    "    acc_dt = np.zeros((2,5))\n",
    "    j = 0\n",
    "    for train_index, test_index in kfold.split(train_df):\n",
    "        kfold_X_train = train_df.iloc[train_index].drop(\"Survived\", axis=1)\n",
    "        kfold_Y_train = train_df.iloc[train_index][\"Survived\"]\n",
    "        kfold_X_test  = train_df.iloc[test_index].drop(\"Survived\", axis=1)\n",
    "        kfold_Y_test  = train_df.iloc[test_index][\"Survived\"]\n",
    "\n",
    "        knn = KNeighborsClassifier(n_neighbors = i+1, weights = 'distance', leaf_size = 30)\n",
    "        knn.fit(kfold_X_train, kfold_Y_train)\n",
    "        acc_train = knn.score(kfold_X_train, kfold_Y_train)\n",
    "        acc_test = knn.score(kfold_X_test, kfold_Y_test)\n",
    "        acc_dt[0,j] = acc_train\n",
    "        acc_dt[1,j] = acc_test\n",
    "        j+=1\n",
    "    # print(acc_dt,'\\n')\n",
    "    print('Average training accuracy: ',np.mean(acc_dt[0,:]),' Average testing accuracy: ',np.mean(acc_dt[1,:]))\n",
    "    \n",
    "    distance_average_training.append(np.mean(acc_dt[0,:]))\n",
    "    distance_average_testing.append(np.mean(acc_dt[1,:]))"
   ]
  },
  {
   "cell_type": "code",
   "execution_count": 43,
   "metadata": {},
   "outputs": [
    {
     "data": {
      "image/png": "[encoded data removed]",
      "text/plain": [
       "<Figure size 432x288 with 1 Axes>"
      ]
     },
     "metadata": {
      "needs_background": "light"
     },
     "output_type": "display_data"
    }
   ],
   "source": [
    "line1 = plt.plot(distance_average_training, label=\"training accuracy\")\n",
    "line2 = plt.plot(distance_average_testing, label=\"testing accuracy\")\n",
    "plt.xlabel('n_neighbors')\n",
    "plt.ylabel('accuracy')\n",
    "plt.legend()\n",
    "plt.show()"
   ]
  },
  {
   "cell_type": "markdown",
   "metadata": {},
   "source": [
    "<font color='red'>testing accuracy 仍然還是小於 training accuracy<br />\n",
    "    接下來直接比較使用 uniform 和 distance 方法的差別\n",
    "</font>"
   ]
  },
  {
   "cell_type": "markdown",
   "metadata": {},
   "source": [
    "## uniform V.S. distance\n",
    "***"
   ]
  },
  {
   "cell_type": "code",
   "execution_count": 44,
   "metadata": {},
   "outputs": [
    {
     "data": {
      "image/png": "[encoded data removed]",
      "text/plain": [
       "<Figure size 432x288 with 1 Axes>"
      ]
     },
     "metadata": {
      "needs_background": "light"
     },
     "output_type": "display_data"
    }
   ],
   "source": [
    "line1 = plt.plot(uniform_average_training, label=\"uniform\")\n",
    "line3 = plt.plot(distance_average_training, label=\"distance\")\n",
    "plt.xlabel('n_neighbors')\n",
    "plt.ylabel('training accuracy')\n",
    "plt.legend()\n",
    "plt.show()"
   ]
  },
  {
   "cell_type": "code",
   "execution_count": 45,
   "metadata": {
    "scrolled": true
   },
   "outputs": [
    {
     "data": {
      "image/png": "[encoded data removed]",
      "text/plain": [
       "<Figure size 432x288 with 1 Axes>"
      ]
     },
     "metadata": {
      "needs_background": "light"
     },
     "output_type": "display_data"
    }
   ],
   "source": [
    "line2 = plt.plot(uniform_average_testing, label=\"uniform\")\n",
    "line4 = plt.plot(distance_average_testing, label=\"distance\")\n",
    "plt.xlabel('n_neighbors')\n",
    "plt.ylabel('testing accuracy')\n",
    "plt.legend()\n",
    "plt.show()"
   ]
  },
  {
   "cell_type": "markdown",
   "metadata": {},
   "source": [
    "<font color='red'>把剛剛的 uniform 拿來和 distance 比較<br />\n",
    "    可以發現不論在 training 還是 testing<br />\n",
    "    weights 使用 distance 的結果都明顯好了很多\n",
    "</font>\n",
    "\n",
    "## <font color='blue'> 結論1 : knn演算法 把距離因素考量進去會對預測結果加分 </font>\n",
    "## <font color='blue'> 結論2 : knn演算法 對於預測未知的資料效果會比較差一點 </font>"
   ]
  }
 ],
 "metadata": {
  "kernelspec": {
   "display_name": "Python 3",
   "language": "python",
   "name": "python3"
  },
  "language_info": {
   "codemirror_mode": {
    "name": "ipython",
    "version": 3
   },
   "file_extension": ".py",
   "mimetype": "text/x-python",
   "name": "python",
   "nbconvert_exporter": "python",
   "pygments_lexer": "ipython3",
   "version": "3.7.3"
  }
 },
 "nbformat": 4,
 "nbformat_minor": 2
}
